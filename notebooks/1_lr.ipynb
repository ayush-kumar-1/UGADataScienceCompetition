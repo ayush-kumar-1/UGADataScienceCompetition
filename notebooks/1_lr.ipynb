{
 "cells": [
  {
   "cell_type": "code",
   "execution_count": 11,
   "id": "sensitive-divide",
   "metadata": {},
   "outputs": [],
   "source": [
    "import numpy as np \n",
    "import pandas as pd\n",
    "import matplotlib.pyplot as plt\n",
    "import tensorflow as tf \n",
    "from tensorflow import keras\n",
    "from keras import layers\n",
    "from utils import *\n",
    "from sklearn.linear_model import LogisticRegression as LogRes\n",
    "from sklearn.metrics import classification_report as report\n",
    "from sklearn.metrics import precision_score as precision \n",
    "from sklearn.metrics import recall_score as recall"
   ]
  },
  {
   "cell_type": "code",
   "execution_count": 2,
   "id": "hired-charger",
   "metadata": {},
   "outputs": [],
   "source": [
    "x_train, y_train = load_data(\"../data/Simulated_Data_Train.csv\")\n",
    "x_val, y_val = load_data(\"../data/Simulated_Data_Validation.csv\")\n",
    "x_test, y_test = load_data(\"../data/Simulated_Data_Test.csv\")"
   ]
  },
  {
   "cell_type": "code",
   "execution_count": 15,
   "id": "fancy-theta",
   "metadata": {},
   "outputs": [
    {
     "data": {
      "text/plain": [
       "array([[6.3651270e+04, 9.0199900e+03, 4.8400000e+02, ..., 0.0000000e+00,\n",
       "        0.0000000e+00, 0.0000000e+00],\n",
       "       [1.0555929e+05, 1.6692190e+04, 2.1200000e+02, ..., 0.0000000e+00,\n",
       "        0.0000000e+00, 0.0000000e+00],\n",
       "       [9.6062990e+04, 1.0509130e+04, 2.5500000e+02, ..., 0.0000000e+00,\n",
       "        0.0000000e+00, 0.0000000e+00],\n",
       "       ...,\n",
       "       [7.4738730e+04, 1.2175490e+04, 3.5100000e+02, ..., 0.0000000e+00,\n",
       "        1.0000000e+00, 0.0000000e+00],\n",
       "       [1.2035758e+05, 1.4477700e+04, 3.0800000e+02, ..., 0.0000000e+00,\n",
       "        0.0000000e+00, 0.0000000e+00],\n",
       "       [7.4240170e+04, 1.1873450e+04, 3.4100000e+02, ..., 0.0000000e+00,\n",
       "        0.0000000e+00, 0.0000000e+00]])"
      ]
     },
     "execution_count": 15,
     "metadata": {},
     "output_type": "execute_result"
    }
   ],
   "source": []
  },
  {
   "cell_type": "code",
   "execution_count": 3,
   "id": "gentle-quantum",
   "metadata": {},
   "outputs": [],
   "source": [
    "class log_reg(): \n",
    "    \n",
    "    def __init__(self, data, response): \n",
    "        \"\"\"\n",
    "        Initialized and trains the logistic regression model with \n",
    "        the given data and resposne. \n",
    "        \n",
    "        Keyword Arguments: \n",
    "        data - the input matrix \n",
    "        reponse - the output vector\n",
    "        \"\"\"\n",
    "        self.x = data \n",
    "        self.y = response \n",
    "        #Set Seed for Reproducibility\n",
    "        self.model = LogRes(random_state = 462021).fit(self.x, self.y)\n",
    "        \n",
    "    def predict(self, x): \n",
    "        \"\"\"\n",
    "        Returns predicted probabilities NOT Classes for \n",
    "        the model. Tuning may be needed for optimal results for the \n",
    "        decision rule. \n",
    "        \n",
    "        Keyword Arguments: \n",
    "        x - the data to generate predictions on \n",
    "        \"\"\"\n",
    "        return self.model.predict_proba(x)[:,1]"
   ]
  },
  {
   "cell_type": "code",
   "execution_count": 9,
   "id": "known-development",
   "metadata": {},
   "outputs": [],
   "source": [
    "from sklearn.metrics import precision_score, recall_score\n",
    "\n",
    "def precision(y, yhat): \n",
    "    \"\"\"\n",
    "    The precision of the model in regards to correctly \n",
    "    predicting if a consumer will default. (Precision for 1.0)\n",
    "    \n",
    "    Keyword Arguments: \n",
    "    y - the true values \n",
    "    yhat - the predicted values\n",
    "    \"\"\"\n",
    "    return(precision_score(y, yhat))"
   ]
  },
  {
   "cell_type": "code",
   "execution_count": 10,
   "id": "boxed-durham",
   "metadata": {},
   "outputs": [
    {
     "name": "stdout",
     "output_type": "stream",
     "text": [
      "Accuracy = 0.9306, Threshold = 0.5, Loss = 0.058\n",
      "Accuracy = 0.9305, Threshold = 0.5058, Loss = 0.058\n",
      "0.5\n",
      "              precision    recall  f1-score   support\n",
      "\n",
      "         0.0       0.93      0.99      0.96     18414\n",
      "         1.0       0.73      0.20      0.31      1586\n",
      "\n",
      "    accuracy                           0.93     20000\n",
      "   macro avg       0.83      0.60      0.64     20000\n",
      "weighted avg       0.92      0.93      0.91     20000\n",
      "\n",
      "              precision    recall  f1-score   support\n",
      "\n",
      "         0.0       0.93      0.99      0.96     18414\n",
      "         1.0       0.73      0.20      0.31      1586\n",
      "\n",
      "    accuracy                           0.93     20000\n",
      "   macro avg       0.83      0.60      0.64     20000\n",
      "weighted avg       0.92      0.93      0.91     20000\n",
      "\n",
      "0.7323943661971831\n"
     ]
    }
   ],
   "source": [
    "lr = log_reg(x_train, y_train)\n",
    "yprob = lr.predict(x_train)\n",
    "threshold = tune_threshold(y_train, yprob)\n",
    "print(threshold)\n",
    "yhat = decide(yprob, threshold)\n",
    "print(report(y_train, lr.model.predict(x_train)))\n",
    "print(report(y_train, decide(yprob, threshold)))\n",
    "\n",
    "print(precision(y_train, yhat))"
   ]
  },
  {
   "cell_type": "code",
   "execution_count": 11,
   "id": "complete-involvement",
   "metadata": {},
   "outputs": [],
   "source": [
    "class feed_forward(): \n",
    "    \n",
    "    def __init__(self, data, response): \n",
    "        \"\"\"\n",
    "        Initializes a feed_forward nueral network for this \n",
    "        specfic problem of credit classification. \n",
    "        \n",
    "        Keyword Arguments: \n",
    "        \n",
    "        data - the input matrix \n",
    "        response - the output response vector\n",
    "        \"\"\"\n",
    "        self.x = data \n",
    "        self.y = response \n",
    "        self.model = feed_forward.build_model(self.x, self.y)\n",
    "        \n",
    "        \n",
    "    def build_model(x, y, suppress = False, width = 20): \n",
    "        \"\"\"\n",
    "        Builds a feed forward nueral network with a hidden layer \n",
    "        of 20 nuerons. \n",
    "        \n",
    "        Keyword Arguments: \n",
    "        \n",
    "        x - the input data being used to build to model\n",
    "        y - the response vector model is going to be trained on \n",
    "        suppress - if true will not print out model summary\n",
    "        width - the size of the hidden layer\n",
    "        \"\"\"\n",
    "        model = keras.Sequential()\n",
    "        model.add(layers.Dense(width, input_dim = x.shape[1], \n",
    "                            kernel_initializer = \"uniform\", \n",
    "                            activation = \"relu\", ))\n",
    "        model.add(layers.Dense(1, kernel_initializer = \"normal\", activation = \"sigmoid\"))\n",
    "        model.compile(loss = \"binary_crossentropy\", optimizer = \"adam\")\n",
    "        if not suppress: \n",
    "            model.summary()\n",
    "        return model\n",
    "\n",
    "\n",
    "    def train(self, epochs = 20): \n",
    "        \"\"\"\n",
    "        Trains the model for a certain number of epochs. Default \n",
    "        is 20. \n",
    "        \"\"\"\n",
    "        self.model.fit(self.x, self.y, epochs = epochs, verbose = 1)\n",
    "        \n",
    "        \n",
    "    def predict(self, x): \n",
    "        \"\"\"\n",
    "        Generates Predictions of 0 or 1. \n",
    "        \"\"\"\n",
    "        y_prob = self.model.predict(x)[:,0]\n",
    "        yhat = decide(y_prob, 0.5)\n",
    "        \n",
    "        return yhat"
   ]
  },
  {
   "cell_type": "code",
   "execution_count": 12,
   "id": "attached-dinner",
   "metadata": {},
   "outputs": [
    {
     "name": "stdout",
     "output_type": "stream",
     "text": [
      "Model: \"sequential\"\n",
      "_________________________________________________________________\n",
      "Layer (type)                 Output Shape              Param #   \n",
      "=================================================================\n",
      "dense (Dense)                (None, 20)                520       \n",
      "_________________________________________________________________\n",
      "dense_1 (Dense)              (None, 1)                 21        \n",
      "=================================================================\n",
      "Total params: 541\n",
      "Trainable params: 541\n",
      "Non-trainable params: 0\n",
      "_________________________________________________________________\n",
      "Epoch 1/20\n",
      "625/625 [==============================] - 1s 919us/step - loss: 3.9164\n",
      "Epoch 2/20\n",
      "625/625 [==============================] - 0s 684us/step - loss: 2.6951\n",
      "Epoch 3/20\n",
      "625/625 [==============================] - 0s 658us/step - loss: 1.5024\n",
      "Epoch 4/20\n",
      "625/625 [==============================] - 0s 791us/step - loss: 1.0691\n",
      "Epoch 5/20\n",
      "625/625 [==============================] - 1s 809us/step - loss: 0.9888\n",
      "Epoch 6/20\n",
      "625/625 [==============================] - 0s 634us/step - loss: 0.4950\n",
      "Epoch 7/20\n",
      "625/625 [==============================] - 0s 656us/step - loss: 0.3840\n",
      "Epoch 8/20\n",
      "625/625 [==============================] - 0s 614us/step - loss: 0.3961\n",
      "Epoch 9/20\n",
      "625/625 [==============================] - 0s 632us/step - loss: 0.2926\n",
      "Epoch 10/20\n",
      "625/625 [==============================] - 0s 645us/step - loss: 0.2842\n",
      "Epoch 11/20\n",
      "625/625 [==============================] - 0s 635us/step - loss: 0.2533\n",
      "Epoch 12/20\n",
      "625/625 [==============================] - ETA: 0s - loss: 0.244 - 0s 643us/step - loss: 0.2443\n",
      "Epoch 13/20\n",
      "625/625 [==============================] - 0s 635us/step - loss: 0.2380\n",
      "Epoch 14/20\n",
      "625/625 [==============================] - 0s 633us/step - loss: 0.2390\n",
      "Epoch 15/20\n",
      "625/625 [==============================] - 0s 648us/step - loss: 0.2401\n",
      "Epoch 16/20\n",
      "625/625 [==============================] - 1s 817us/step - loss: 0.2396\n",
      "Epoch 17/20\n",
      "625/625 [==============================] - 0s 646us/step - loss: 0.2418\n",
      "Epoch 18/20\n",
      "625/625 [==============================] - 0s 650us/step - loss: 0.2371\n",
      "Epoch 19/20\n",
      "625/625 [==============================] - 0s 667us/step - loss: 0.2425\n",
      "Epoch 20/20\n",
      "625/625 [==============================] - 0s 642us/step - loss: 0.2397\n"
     ]
    },
    {
     "data": {
      "text/plain": [
       "array([0, 0, 0, ..., 0, 0, 0])"
      ]
     },
     "execution_count": 12,
     "metadata": {},
     "output_type": "execute_result"
    }
   ],
   "source": [
    "nn = feed_forward(x_train, y_train)\n",
    "nn.train(20)\n",
    "nn.predict(x_train)"
   ]
  },
  {
   "cell_type": "code",
   "execution_count": 15,
   "id": "bacterial-hungarian",
   "metadata": {},
   "outputs": [
    {
     "name": "stdout",
     "output_type": "stream",
     "text": [
      "              precision    recall  f1-score   support\n",
      "\n",
      "         0.0       0.93      1.00      0.96     18414\n",
      "         1.0       0.73      0.13      0.21      1586\n",
      "\n",
      "    accuracy                           0.93     20000\n",
      "   macro avg       0.83      0.56      0.59     20000\n",
      "weighted avg       0.91      0.93      0.90     20000\n",
      "\n"
     ]
    }
   ],
   "source": [
    "yhat = nn.predict(x_train)\n",
    "print(report(y_train, yhat))"
   ]
  },
  {
   "cell_type": "code",
   "execution_count": 177,
   "id": "technical-winner",
   "metadata": {},
   "outputs": [
    {
     "data": {
      "text/plain": [
       "0.9207"
      ]
     },
     "execution_count": 177,
     "metadata": {},
     "output_type": "execute_result"
    }
   ],
   "source": [
    "y_prob = model.predict(x_train)[:,0]\n",
    "yhat = decide(y_prob, 0.5)\n",
    "\n",
    "accuracy(y_train, yhat)\n"
   ]
  },
  {
   "cell_type": "code",
   "execution_count": 178,
   "id": "weighted-facing",
   "metadata": {},
   "outputs": [
    {
     "name": "stdout",
     "output_type": "stream",
     "text": [
      "Accuracy = 0.926, Threshold = 0.5, Loss = 0.074\n",
      "Accuracy = 0.926, Threshold = 0.5074, Loss = 0.074\n"
     ]
    },
    {
     "data": {
      "text/plain": [
       "0.5"
      ]
     },
     "execution_count": 178,
     "metadata": {},
     "output_type": "execute_result"
    }
   ],
   "source": [
    "y_val_prob = model.predict(x_val)[:,0]\n",
    "y_val_hat = decide(y_val_prob, 0.5)\n",
    "\n",
    "tune_threshold(y_val, y_val_prob)"
   ]
  },
  {
   "cell_type": "code",
   "execution_count": 120,
   "id": "african-metadata",
   "metadata": {},
   "outputs": [
    {
     "name": "stdout",
     "output_type": "stream",
     "text": [
      "Width: 20, Training_Accuracy = 0.9322, Validation Accuracy = 0.9356666666666666\n",
      "Width: 20, Training_Accuracy = 0.9322, Validation Accuracy = 0.926\n",
      "Width: 21, Training_Accuracy = 0.9322, Validation Accuracy = 0.926\n",
      "Width: 22, Training_Accuracy = 0.9322, Validation Accuracy = 0.926\n",
      "Width: 23, Training_Accuracy = 0.9322, Validation Accuracy = 0.926\n",
      "Width: 24, Training_Accuracy = 0.9322, Validation Accuracy = 0.926\n",
      "Width: 25, Training_Accuracy = 0.9322, Validation Accuracy = 0.9266666666666666\n",
      "Width: 26, Training_Accuracy = 0.9322, Validation Accuracy = 0.9263333333333333\n",
      "Width: 27, Training_Accuracy = 0.9322, Validation Accuracy = 0.926\n",
      "Width: 28, Training_Accuracy = 0.9322, Validation Accuracy = 0.9323333333333333\n",
      "Width: 29, Training_Accuracy = 0.9322, Validation Accuracy = 0.926\n",
      "Width: 30, Training_Accuracy = 0.9322, Validation Accuracy = 0.9326666666666666\n",
      "Width: 31, Training_Accuracy = 0.9322, Validation Accuracy = 0.9303333333333333\n",
      "Width: 32, Training_Accuracy = 0.9322, Validation Accuracy = 0.9326666666666666\n",
      "Width: 33, Training_Accuracy = 0.9322, Validation Accuracy = 0.926\n",
      "Width: 34, Training_Accuracy = 0.9322, Validation Accuracy = 0.926\n",
      "Width: 35, Training_Accuracy = 0.9322, Validation Accuracy = 0.9263333333333333\n",
      "Width: 36, Training_Accuracy = 0.9322, Validation Accuracy = 0.9303333333333333\n",
      "Width: 37, Training_Accuracy = 0.9322, Validation Accuracy = 0.926\n",
      "Width: 38, Training_Accuracy = 0.9322, Validation Accuracy = 0.926\n",
      "Width: 39, Training_Accuracy = 0.9322, Validation Accuracy = 0.926\n",
      "Width: 40, Training_Accuracy = 0.9322, Validation Accuracy = 0.926\n",
      "Width: 41, Training_Accuracy = 0.9322, Validation Accuracy = 0.9326666666666666\n",
      "Width: 42, Training_Accuracy = 0.9322, Validation Accuracy = 0.926\n",
      "Width: 43, Training_Accuracy = 0.9322, Validation Accuracy = 0.9276666666666666\n",
      "Width: 44, Training_Accuracy = 0.9322, Validation Accuracy = 0.9293333333333333\n",
      "Width: 45, Training_Accuracy = 0.9322, Validation Accuracy = 0.9296666666666666\n",
      "Width: 46, Training_Accuracy = 0.9322, Validation Accuracy = 0.9303333333333333\n",
      "Width: 47, Training_Accuracy = 0.9322, Validation Accuracy = 0.9326666666666666\n",
      "Width: 48, Training_Accuracy = 0.9322, Validation Accuracy = 0.926\n",
      "Width: 49, Training_Accuracy = 0.9322, Validation Accuracy = 0.9306666666666666\n"
     ]
    }
   ],
   "source": [
    "def tune_model_width(build_fn, x_train, y_train, x_val, y_val, max_width = 50): \n",
    "    width = 20\n",
    "    model = feed_forward.build_model(x_train, y_train, width = width, suppress = True)\n",
    "    model.fit(x_train, y_train, epochs = 25, verbose = 0)\n",
    "    \n",
    "    y_val_prob = model.predict(x_val)[:,0]\n",
    "    y_val_hat = decide(y_val_prob, 0.5)\n",
    "    \n",
    "    validation_accuracy = accuracy(y_val, y_val_hat)\n",
    "    \n",
    "    y_train_prob = model.predict(x_train)[:,0]\n",
    "    y_train_hat = decide(y_train_prob, 0.5)\n",
    "    \n",
    "    training_accuracy = accuracy(y_train, y_train_hat)\n",
    "    \n",
    "    distance = training_accuracy - validation_accuracy\n",
    "    \n",
    "    print(f\"Width: {width}, Training_Accuracy = {training_accuracy}, Validation Accuracy = {validation_accuracy}\")\n",
    "    \n",
    "    for i in range(21, max_width): \n",
    "        width = i\n",
    "        \n",
    "        model = build_fn(x_train, y_train, width = width, suppress = True)\n",
    "        model.fit(x_train, y_train, epochs = 25, verbose = 0)\n",
    "\n",
    "        y_val_prob = model.predict(x_val)[:,0]\n",
    "        y_val_hat = decide(y_val_prob, 0.5)\n",
    "\n",
    "        validation_accuracy = accuracy(y_val, y_val_hat)\n",
    "\n",
    "        y_train_prob = model.predict(x_val)[:,0]\n",
    "        y_train_hat = decide(y_train_hat, 0.5)\n",
    "\n",
    "        training_accuracy = accuracy(y_train, y_train_hat)\n",
    "\n",
    "        print(f\"Width: {width}, Training_Accuracy = {training_accuracy}, Validation Accuracy = {validation_accuracy}\")\n",
    "    \n",
    "\n",
    "tune_model_width(build_fn, x_train, y_train, x_val, y_val)\n",
    "\n",
    "    \n",
    "    "
   ]
  },
  {
   "cell_type": "code",
   "execution_count": 12,
   "id": "featured-infrastructure",
   "metadata": {},
   "outputs": [],
   "source": [
    "from sklearn.ensemble import RandomForestClassifier as RFC"
   ]
  },
  {
   "cell_type": "code",
   "execution_count": 13,
   "id": "ambient-lingerie",
   "metadata": {},
   "outputs": [],
   "source": [
    "random_forest = RFC().fit(x_train, y_train)\n",
    "y_prob = random_forest.predict(x_train)\n"
   ]
  },
  {
   "cell_type": "code",
   "execution_count": 15,
   "id": "steady-opinion",
   "metadata": {},
   "outputs": [
    {
     "name": "stdout",
     "output_type": "stream",
     "text": [
      "              precision    recall  f1-score   support\n",
      "\n",
      "         0.0       0.94      0.99      0.97      2778\n",
      "         1.0       0.81      0.27      0.41       222\n",
      "\n",
      "    accuracy                           0.94      3000\n",
      "   macro avg       0.88      0.63      0.69      3000\n",
      "weighted avg       0.94      0.94      0.93      3000\n",
      "\n"
     ]
    }
   ],
   "source": [
    "print(report(y_val, random_forest.predict(x_val)))"
   ]
  },
  {
   "cell_type": "code",
   "execution_count": 143,
   "id": "forward-malpractice",
   "metadata": {},
   "outputs": [],
   "source": [
    "credit_data = pd.read_csv(\"../data/Simulated_Data_Train.csv\")"
   ]
  },
  {
   "cell_type": "code",
   "execution_count": 148,
   "id": "weighted-nigeria",
   "metadata": {},
   "outputs": [],
   "source": [
    "incorrect = ((y_train - yhat)**2 == 1)"
   ]
  },
  {
   "cell_type": "code",
   "execution_count": 163,
   "id": "polyphonic-dimension",
   "metadata": {},
   "outputs": [
    {
     "data": {
      "text/plain": [
       "tot_credit_debt                       3095.096550\n",
       "avg_card_debt                        -3726.806435\n",
       "credit_age                              19.173510\n",
       "credit_good_age                          8.828424\n",
       "card_age                                18.110651\n",
       "non_mtg_acc_past_due_12_months_num      -0.291335\n",
       "non_mtg_acc_past_due_6_months_num       -0.079983\n",
       "mortgages_past_due_6_months_num         -0.109248\n",
       "credit_past_due_amount               -1012.201835\n",
       "inq_12_month_num                        -0.404340\n",
       "card_inq_24_month_num                   -0.557589\n",
       "card_open_36_month_num                  -0.020395\n",
       "auto_open_ 36_month_num                 -0.002922\n",
       "uti_card                                -0.057655\n",
       "uti_50plus_pct                          -0.047760\n",
       "uti_max_credit_line                     -0.042977\n",
       "uti_card_50plus_pct                     -0.056593\n",
       "ind_acc_XYZ                              0.045276\n",
       "rep_income                             281.448200\n",
       "Default_ind                             -0.820775\n",
       "dtype: float64"
      ]
     },
     "execution_count": 163,
     "metadata": {},
     "output_type": "execute_result"
    }
   ],
   "source": [
    "credit_data.mean() - credit_data.iloc[incorrect].mean()"
   ]
  },
  {
   "cell_type": "code",
   "execution_count": 164,
   "id": "proud-burner",
   "metadata": {},
   "outputs": [
    {
     "data": {
      "text/plain": [
       "<matplotlib.collections.PathCollection at 0x2efb2910ec8>"
      ]
     },
     "execution_count": 164,
     "metadata": {},
     "output_type": "execute_result"
    },
    {
     "data": {
      "image/png": "[encoded data removed]",
      "text/plain": [
       "<Figure size 432x288 with 1 Axes>"
      ]
     },
     "metadata": {
      "needs_background": "light"
     },
     "output_type": "display_data"
    }
   ],
   "source": []
  }
 ],
 "metadata": {
  "kernelspec": {
   "display_name": "Python 3",
   "language": "python",
   "name": "python3"
  },
  "language_info": {
   "codemirror_mode": {
    "name": "ipython",
    "version": 3
   },
   "file_extension": ".py",
   "mimetype": "text/x-python",
   "name": "python",
   "nbconvert_exporter": "python",
   "pygments_lexer": "ipython3",
   "version": "3.7.10"
  }
 },
 "nbformat": 4,
 "nbformat_minor": 5
}
