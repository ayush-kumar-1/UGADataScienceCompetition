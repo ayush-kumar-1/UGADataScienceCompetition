{
 "cells": [
  {
   "cell_type": "code",
   "execution_count": 1,
   "id": "premier-comparison",
   "metadata": {},
   "outputs": [],
   "source": [
    "import numpy as np \n",
    "import matplotlib.pyplot as plt \n",
    "import pandas as pd "
   ]
  },
  {
   "cell_type": "code",
   "execution_count": 3,
   "id": "answering-storage",
   "metadata": {},
   "outputs": [
    {
     "data": {
      "text/plain": [
       "tot_credit_debt                          0\n",
       "avg_card_debt                            0\n",
       "credit_age                               0\n",
       "credit_good_age                          0\n",
       "card_age                                 0\n",
       "non_mtg_acc_past_due_12_months_num       0\n",
       "non_mtg_acc_past_due_6_months_num        0\n",
       "mortgages_past_due_6_months_num          0\n",
       "credit_past_due_amount                   0\n",
       "inq_12_month_num                         0\n",
       "card_inq_24_month_num                    0\n",
       "card_open_36_month_num                   0\n",
       "auto_open_ 36_month_num                  0\n",
       "uti_card                                 0\n",
       "uti_50plus_pct                           0\n",
       "uti_max_credit_line                      0\n",
       "uti_card_50plus_pct                   2055\n",
       "ind_acc_XYZ                              0\n",
       "rep_income                            1570\n",
       "States                                   0\n",
       "Default_ind                              0\n",
       "dtype: int64"
      ]
     },
     "execution_count": 3,
     "metadata": {},
     "output_type": "execute_result"
    }
   ],
   "source": [
    "credit_data = pd.read_csv(\"../data/Simulated_Data_Train.csv\")\n",
    "credit_data.isna().sum()"
   ]
  }
 ],
 "metadata": {
  "kernelspec": {
   "display_name": "Python 3",
   "language": "python",
   "name": "python3"
  },
  "language_info": {
   "codemirror_mode": {
    "name": "ipython",
    "version": 3
   },
   "file_extension": ".py",
   "mimetype": "text/x-python",
   "name": "python",
   "nbconvert_exporter": "python",
   "pygments_lexer": "ipython3",
   "version": "3.7.10"
  }
 },
 "nbformat": 4,
 "nbformat_minor": 5
}
