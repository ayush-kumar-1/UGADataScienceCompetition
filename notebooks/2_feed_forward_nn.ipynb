{
 "cells": [
  {
   "cell_type": "code",
   "execution_count": 1,
   "id": "theoretical-pickup",
   "metadata": {},
   "outputs": [],
   "source": [
    "import numpy as np \n",
    "import pandas as pd\n",
    "import matplotlib.pyplot as plt\n",
    "import tensorflow as tf \n",
    "from tensorflow import keras\n",
    "from keras import layers\n",
    "from sklearn.linear_model import LogisticRegression as LogRes\n",
    "from sklearn.metrics import classification_report as report\n",
    "from sklearn.metrics import precision_score as precision \n",
    "from sklearn.metrics import recall_score as recall\n",
    "from utils import * \n",
    "from models import * \n",
    "\n",
    "%matplotlib inline"
   ]
  },
  {
   "cell_type": "code",
   "execution_count": 2,
   "id": "noble-fifteen",
   "metadata": {},
   "outputs": [],
   "source": [
    "###Initial Baseline Models \n",
    "\n",
    "x_train, y_train = load_data(\"../data/Simulated_Data_Train.csv\")\n",
    "x_val, y_val = load_data(\"../data/Simulated_Data_Validation.csv\")\n",
    "x_test, y_test = load_data(\"../data/Simulated_Data_Test.csv\")\n"
   ]
  },
  {
   "cell_type": "code",
   "execution_count": 4,
   "id": "enclosed-spencer",
   "metadata": {},
   "outputs": [
    {
     "name": "stdout",
     "output_type": "stream",
     "text": [
      "Model: \"sequential_1\"\n",
      "_________________________________________________________________\n",
      "Layer (type)                 Output Shape              Param #   \n",
      "=================================================================\n",
      "dense_2 (Dense)              (None, 32)                1024      \n",
      "_________________________________________________________________\n",
      "dense_3 (Dense)              (None, 1)                 33        \n",
      "=================================================================\n",
      "Total params: 1,057\n",
      "Trainable params: 1,057\n",
      "Non-trainable params: 0\n",
      "_________________________________________________________________\n",
      "Epoch 1/20\n",
      "625/625 [==============================] - 0s 728us/step - loss: 5.0992\n",
      "Epoch 2/20\n",
      "625/625 [==============================] - 0s 648us/step - loss: 3.4032\n",
      "Epoch 3/20\n",
      "625/625 [==============================] - 0s 565us/step - loss: 2.2437\n",
      "Epoch 4/20\n",
      "625/625 [==============================] - 0s 579us/step - loss: 1.9951\n",
      "Epoch 5/20\n",
      "625/625 [==============================] - 0s 563us/step - loss: 1.5913\n",
      "Epoch 6/20\n",
      "625/625 [==============================] - 0s 560us/step - loss: 0.8759\n",
      "Epoch 7/20\n",
      "625/625 [==============================] - 0s 554us/step - loss: 0.8136\n",
      "Epoch 8/20\n",
      "625/625 [==============================] - 0s 560us/step - loss: 0.6281\n",
      "Epoch 9/20\n",
      "625/625 [==============================] - 0s 581us/step - loss: 0.6509\n",
      "Epoch 10/20\n",
      "625/625 [==============================] - 0s 568us/step - loss: 0.4198\n",
      "Epoch 11/20\n",
      "625/625 [==============================] - 0s 614us/step - loss: 0.3675\n",
      "Epoch 12/20\n",
      "625/625 [==============================] - 0s 576us/step - loss: 0.3078\n",
      "Epoch 13/20\n",
      "625/625 [==============================] - 0s 557us/step - loss: 0.2831\n",
      "Epoch 14/20\n",
      "625/625 [==============================] - 0s 565us/step - loss: 0.2746\n",
      "Epoch 15/20\n",
      "625/625 [==============================] - 0s 685us/step - loss: 0.2619\n",
      "Epoch 16/20\n",
      "625/625 [==============================] - 0s 608us/step - loss: 0.2496\n",
      "Epoch 17/20\n",
      "625/625 [==============================] - 0s 582us/step - loss: 0.2452\n",
      "Epoch 18/20\n",
      "625/625 [==============================] - 0s 565us/step - loss: 0.2442\n",
      "Epoch 19/20\n",
      "625/625 [==============================] - 0s 586us/step - loss: 0.2392\n",
      "Epoch 20/20\n",
      "625/625 [==============================] - 0s 595us/step - loss: 0.2364\n",
      "****** Initial Feed Forward Network *********\n",
      "              precision    recall  f1-score   support\n",
      "\n",
      "         0.0       0.93      0.99      0.96      4599\n",
      "         1.0       0.76      0.19      0.31       401\n",
      "\n",
      "    accuracy                           0.93      5000\n",
      "   macro avg       0.85      0.59      0.64      5000\n",
      "weighted avg       0.92      0.93      0.91      5000\n",
      "\n"
     ]
    }
   ],
   "source": [
    "nn = feed_forward(x_train, y_train, width = 32)\n",
    "nn.train(20)\n",
    "\n",
    "\n",
    "print(\"****** Initial Feed Forward Network *********\")\n",
    "print(report(y_test, nn.predict(x_test)))"
   ]
  },
  {
   "cell_type": "code",
   "execution_count": 36,
   "id": "funny-distribution",
   "metadata": {},
   "outputs": [],
   "source": [
    "def tune_model_width(build_fn, x_train, y_train, x_val, y_val, max_width = 50): \n",
    "    \"\"\"\n",
    "    Takes a 3-Layer nueral network and expands width to see if there \n",
    "    are tangible benefits to increasing the width of the hidden layer \n",
    "    in the model. \n",
    "    \n",
    "    Parameters: \n",
    "    build_fn - function that returns a keras nn model with the specified parameters \n",
    "    x_train - the data matrix \n",
    "    y_train - the response function\n",
    "    x_val - validation data\n",
    "    y_val - validation data function\n",
    "    \"\"\"\n",
    "    \n",
    "    acc = []\n",
    "    pre = []\n",
    "    rec = []\n",
    "        \n",
    "    for i in range(15, max_width): \n",
    "        width = i\n",
    "        model = feed_forward.build_model(x_train, y_train, width = width, suppress = True)\n",
    "        model.fit(x_train, y_train, epochs = 100, verbose = 0)\n",
    "    \n",
    "        y_val_prob = model.predict(x_val)[:,0]\n",
    "        y_val_hat = decide(y_val_prob, 0.5)\n",
    "\n",
    "        acc.append(accuracy(y_val, y_val_hat))\n",
    "        pre.append(precision(y_val, y_val_hat))\n",
    "        rec.append(recall(y_val, y_val_hat))\n",
    "    \n",
    "    return acc, pre, rec \n",
    "\n",
    "acc, pre, rec = tune_model_width(feed_forward.build_model, \n",
    "                                 x_train, y_train, x_val, y_val)"
   ]
  },
  {
   "cell_type": "code",
   "execution_count": 37,
   "id": "legal-mortality",
   "metadata": {},
   "outputs": [
    {
     "data": {
      "image/png": "[encoded data removed]",
      "text/plain": [
       "<Figure size 1080x720 with 1 Axes>"
      ]
     },
     "metadata": {},
     "output_type": "display_data"
    }
   ],
   "source": [
    "plt.style.use(\"fivethirtyeight\")\n",
    "plt.rcParams[\"figure.figsize\"] = [15, 10]\n",
    "\n",
    "plt.title(\"Precision, Recall, Accuracy vs. Model Complexity\")\n",
    "plt.xlabel(\"Hidden Layer Width\")\n",
    "plt.ylabel(\"Score\")\n",
    "\n",
    "width = [_ for _ in range(15, 50)]\n",
    "\n",
    "plt.plot(width, acc)\n",
    "plt.plot(width, pre)\n",
    "plt.plot(width, rec)\n",
    "plt.legend([\"Accuracy\", \"Precision\", \"Recall\"])\n",
    "plt.savefig(\"nn_width.png\")"
   ]
  },
  {
   "cell_type": "code",
   "execution_count": 12,
   "id": "vocal-dragon",
   "metadata": {},
   "outputs": [
    {
     "name": "stderr",
     "output_type": "stream",
     "text": [
      "\r",
      "  0%|                                                                                                                                                                                                                                                                       | 0/100 [00:00<?, ?it/s]"
     ]
    },
    {
     "name": "stdout",
     "output_type": "stream",
     "text": [
      "Model: \"sequential_38\"\n",
      "_________________________________________________________________\n",
      "Layer (type)                 Output Shape              Param #   \n",
      "=================================================================\n",
      "dense_76 (Dense)             (None, 32)                1024      \n",
      "_________________________________________________________________\n",
      "dense_77 (Dense)             (None, 1)                 33        \n",
      "=================================================================\n",
      "Total params: 1,057\n",
      "Trainable params: 1,057\n",
      "Non-trainable params: 0\n",
      "_________________________________________________________________\n"
     ]
    },
    {
     "name": "stderr",
     "output_type": "stream",
     "text": [
      "\r",
      "  1%|██▌                                                                                                                                                                                                                                                            | 1/100 [00:26<43:24, 26.31s/it]"
     ]
    },
    {
     "name": "stdout",
     "output_type": "stream",
     "text": [
      "Model: \"sequential_39\"\n",
      "_________________________________________________________________\n",
      "Layer (type)                 Output Shape              Param #   \n",
      "=================================================================\n",
      "dense_78 (Dense)             (None, 32)                1024      \n",
      "_________________________________________________________________\n",
      "dense_79 (Dense)             (None, 1)                 33        \n",
      "=================================================================\n",
      "Total params: 1,057\n",
      "Trainable params: 1,057\n",
      "Non-trainable params: 0\n",
      "_________________________________________________________________\n"
     ]
    },
    {
     "name": "stderr",
     "output_type": "stream",
     "text": [
      "\r",
      "  2%|█████                                                                                                                                                                                                                                                          | 2/100 [00:52<42:39, 26.12s/it]"
     ]
    },
    {
     "name": "stdout",
     "output_type": "stream",
     "text": [
      "Model: \"sequential_40\"\n",
      "_________________________________________________________________\n",
      "Layer (type)                 Output Shape              Param #   \n",
      "=================================================================\n",
      "dense_80 (Dense)             (None, 32)                1024      \n",
      "_________________________________________________________________\n",
      "dense_81 (Dense)             (None, 1)                 33        \n",
      "=================================================================\n",
      "Total params: 1,057\n",
      "Trainable params: 1,057\n",
      "Non-trainable params: 0\n",
      "_________________________________________________________________\n"
     ]
    },
    {
     "name": "stderr",
     "output_type": "stream",
     "text": [
      "\r",
      "  3%|███████▋                                                                                                                                                                                                                                                       | 3/100 [01:18<42:27, 26.27s/it]"
     ]
    },
    {
     "name": "stdout",
     "output_type": "stream",
     "text": [
      "Model: \"sequential_41\"\n",
      "_________________________________________________________________\n",
      "Layer (type)                 Output Shape              Param #   \n",
      "=================================================================\n",
      "dense_82 (Dense)             (None, 32)                1024      \n",
      "_________________________________________________________________\n",
      "dense_83 (Dense)             (None, 1)                 33        \n",
      "=================================================================\n",
      "Total params: 1,057\n",
      "Trainable params: 1,057\n",
      "Non-trainable params: 0\n",
      "_________________________________________________________________\n"
     ]
    },
    {
     "name": "stderr",
     "output_type": "stream",
     "text": [
      "\r",
      "  4%|██████████▏                                                                                                                                                                                                                                                    | 4/100 [01:44<41:57, 26.23s/it]"
     ]
    },
    {
     "name": "stdout",
     "output_type": "stream",
     "text": [
      "Model: \"sequential_42\"\n",
      "_________________________________________________________________\n",
      "Layer (type)                 Output Shape              Param #   \n",
      "=================================================================\n",
      "dense_84 (Dense)             (None, 32)                1024      \n",
      "_________________________________________________________________\n",
      "dense_85 (Dense)             (None, 1)                 33        \n",
      "=================================================================\n",
      "Total params: 1,057\n",
      "Trainable params: 1,057\n",
      "Non-trainable params: 0\n",
      "_________________________________________________________________\n"
     ]
    },
    {
     "name": "stderr",
     "output_type": "stream",
     "text": [
      "\r",
      "  5%|████████████▊                                                                                                                                                                                                                                                  | 5/100 [02:12<42:03, 26.56s/it]"
     ]
    },
    {
     "name": "stdout",
     "output_type": "stream",
     "text": [
      "Model: \"sequential_43\"\n",
      "_________________________________________________________________\n",
      "Layer (type)                 Output Shape              Param #   \n",
      "=================================================================\n",
      "dense_86 (Dense)             (None, 32)                1024      \n",
      "_________________________________________________________________\n",
      "dense_87 (Dense)             (None, 1)                 33        \n",
      "=================================================================\n",
      "Total params: 1,057\n",
      "Trainable params: 1,057\n",
      "Non-trainable params: 0\n",
      "_________________________________________________________________\n"
     ]
    },
    {
     "name": "stderr",
     "output_type": "stream",
     "text": [
      "\r",
      "  6%|███████████████▎                                                                                                                                                                                                                                               | 6/100 [02:41<42:56, 27.40s/it]"
     ]
    },
    {
     "name": "stdout",
     "output_type": "stream",
     "text": [
      "Model: \"sequential_44\"\n",
      "_________________________________________________________________\n",
      "Layer (type)                 Output Shape              Param #   \n",
      "=================================================================\n",
      "dense_88 (Dense)             (None, 32)                1024      \n",
      "_________________________________________________________________\n",
      "dense_89 (Dense)             (None, 1)                 33        \n",
      "=================================================================\n",
      "Total params: 1,057\n",
      "Trainable params: 1,057\n",
      "Non-trainable params: 0\n",
      "_________________________________________________________________\n"
     ]
    },
    {
     "name": "stderr",
     "output_type": "stream",
     "text": [
      "\r",
      "  7%|█████████████████▊                                                                                                                                                                                                                                             | 7/100 [03:09<42:54, 27.69s/it]"
     ]
    },
    {
     "name": "stdout",
     "output_type": "stream",
     "text": [
      "Model: \"sequential_45\"\n",
      "_________________________________________________________________\n",
      "Layer (type)                 Output Shape              Param #   \n",
      "=================================================================\n",
      "dense_90 (Dense)             (None, 32)                1024      \n",
      "_________________________________________________________________\n",
      "dense_91 (Dense)             (None, 1)                 33        \n",
      "=================================================================\n",
      "Total params: 1,057\n",
      "Trainable params: 1,057\n",
      "Non-trainable params: 0\n",
      "_________________________________________________________________\n"
     ]
    },
    {
     "name": "stderr",
     "output_type": "stream",
     "text": [
      "\r",
      "  8%|████████████████████▍                                                                                                                                                                                                                                          | 8/100 [03:37<42:31, 27.74s/it]"
     ]
    },
    {
     "name": "stdout",
     "output_type": "stream",
     "text": [
      "Model: \"sequential_46\"\n",
      "_________________________________________________________________\n",
      "Layer (type)                 Output Shape              Param #   \n",
      "=================================================================\n",
      "dense_92 (Dense)             (None, 32)                1024      \n",
      "_________________________________________________________________\n",
      "dense_93 (Dense)             (None, 1)                 33        \n",
      "=================================================================\n",
      "Total params: 1,057\n",
      "Trainable params: 1,057\n",
      "Non-trainable params: 0\n",
      "_________________________________________________________________\n"
     ]
    },
    {
     "name": "stderr",
     "output_type": "stream",
     "text": [
      "\r",
      "  9%|██████████████████████▉                                                                                                                                                                                                                                        | 9/100 [04:09<44:09, 29.12s/it]"
     ]
    },
    {
     "name": "stdout",
     "output_type": "stream",
     "text": [
      "Model: \"sequential_47\"\n",
      "_________________________________________________________________\n",
      "Layer (type)                 Output Shape              Param #   \n",
      "=================================================================\n",
      "dense_94 (Dense)             (None, 32)                1024      \n",
      "_________________________________________________________________\n",
      "dense_95 (Dense)             (None, 1)                 33        \n",
      "=================================================================\n",
      "Total params: 1,057\n",
      "Trainable params: 1,057\n",
      "Non-trainable params: 0\n",
      "_________________________________________________________________\n"
     ]
    },
    {
     "name": "stderr",
     "output_type": "stream",
     "text": [
      "\r",
      " 10%|█████████████████████████▍                                                                                                                                                                                                                                    | 10/100 [04:40<44:37, 29.75s/it]"
     ]
    },
    {
     "name": "stdout",
     "output_type": "stream",
     "text": [
      "Model: \"sequential_48\"\n",
      "_________________________________________________________________\n",
      "Layer (type)                 Output Shape              Param #   \n",
      "=================================================================\n",
      "dense_96 (Dense)             (None, 32)                1024      \n",
      "_________________________________________________________________\n",
      "dense_97 (Dense)             (None, 1)                 33        \n",
      "=================================================================\n",
      "Total params: 1,057\n",
      "Trainable params: 1,057\n",
      "Non-trainable params: 0\n",
      "_________________________________________________________________\n"
     ]
    },
    {
     "name": "stderr",
     "output_type": "stream",
     "text": [
      "\r",
      " 11%|███████████████████████████▉                                                                                                                                                                                                                                  | 11/100 [05:06<42:28, 28.63s/it]"
     ]
    },
    {
     "name": "stdout",
     "output_type": "stream",
     "text": [
      "Model: \"sequential_49\"\n",
      "_________________________________________________________________\n",
      "Layer (type)                 Output Shape              Param #   \n",
      "=================================================================\n",
      "dense_98 (Dense)             (None, 32)                1024      \n",
      "_________________________________________________________________\n",
      "dense_99 (Dense)             (None, 1)                 33        \n",
      "=================================================================\n",
      "Total params: 1,057\n",
      "Trainable params: 1,057\n",
      "Non-trainable params: 0\n",
      "_________________________________________________________________\n"
     ]
    },
    {
     "name": "stderr",
     "output_type": "stream",
     "text": [
      "\r",
      " 12%|██████████████████████████████▍                                                                                                                                                                                                                               | 12/100 [05:33<41:10, 28.07s/it]"
     ]
    },
    {
     "name": "stdout",
     "output_type": "stream",
     "text": [
      "Model: \"sequential_50\"\n",
      "_________________________________________________________________\n",
      "Layer (type)                 Output Shape              Param #   \n",
      "=================================================================\n",
      "dense_100 (Dense)            (None, 32)                1024      \n",
      "_________________________________________________________________\n",
      "dense_101 (Dense)            (None, 1)                 33        \n",
      "=================================================================\n",
      "Total params: 1,057\n",
      "Trainable params: 1,057\n",
      "Non-trainable params: 0\n",
      "_________________________________________________________________\n"
     ]
    },
    {
     "name": "stderr",
     "output_type": "stream",
     "text": [
      "\r",
      " 13%|█████████████████████████████████                                                                                                                                                                                                                             | 13/100 [05:59<39:55, 27.54s/it]"
     ]
    },
    {
     "name": "stdout",
     "output_type": "stream",
     "text": [
      "Model: \"sequential_51\"\n",
      "_________________________________________________________________\n",
      "Layer (type)                 Output Shape              Param #   \n",
      "=================================================================\n",
      "dense_102 (Dense)            (None, 32)                1024      \n",
      "_________________________________________________________________\n",
      "dense_103 (Dense)            (None, 1)                 33        \n",
      "=================================================================\n",
      "Total params: 1,057\n",
      "Trainable params: 1,057\n",
      "Non-trainable params: 0\n",
      "_________________________________________________________________\n"
     ]
    },
    {
     "name": "stderr",
     "output_type": "stream",
     "text": [
      "\r",
      " 14%|███████████████████████████████████▌                                                                                                                                                                                                                          | 14/100 [06:25<38:38, 26.96s/it]"
     ]
    },
    {
     "name": "stdout",
     "output_type": "stream",
     "text": [
      "Model: \"sequential_52\"\n",
      "_________________________________________________________________\n",
      "Layer (type)                 Output Shape              Param #   \n",
      "=================================================================\n",
      "dense_104 (Dense)            (None, 32)                1024      \n",
      "_________________________________________________________________\n",
      "dense_105 (Dense)            (None, 1)                 33        \n",
      "=================================================================\n",
      "Total params: 1,057\n",
      "Trainable params: 1,057\n",
      "Non-trainable params: 0\n",
      "_________________________________________________________________\n"
     ]
    },
    {
     "name": "stderr",
     "output_type": "stream",
     "text": [
      "\r",
      " 15%|██████████████████████████████████████                                                                                                                                                                                                                        | 15/100 [06:50<37:37, 26.56s/it]"
     ]
    },
    {
     "name": "stdout",
     "output_type": "stream",
     "text": [
      "Model: \"sequential_53\"\n",
      "_________________________________________________________________\n",
      "Layer (type)                 Output Shape              Param #   \n",
      "=================================================================\n",
      "dense_106 (Dense)            (None, 32)                1024      \n",
      "_________________________________________________________________\n",
      "dense_107 (Dense)            (None, 1)                 33        \n",
      "=================================================================\n",
      "Total params: 1,057\n",
      "Trainable params: 1,057\n",
      "Non-trainable params: 0\n",
      "_________________________________________________________________\n"
     ]
    },
    {
     "name": "stderr",
     "output_type": "stream",
     "text": [
      "\r",
      " 16%|████████████████████████████████████████▋                                                                                                                                                                                                                     | 16/100 [07:16<36:42, 26.22s/it]"
     ]
    },
    {
     "name": "stdout",
     "output_type": "stream",
     "text": [
      "Model: \"sequential_54\"\n",
      "_________________________________________________________________\n",
      "Layer (type)                 Output Shape              Param #   \n",
      "=================================================================\n",
      "dense_108 (Dense)            (None, 32)                1024      \n",
      "_________________________________________________________________\n",
      "dense_109 (Dense)            (None, 1)                 33        \n",
      "=================================================================\n",
      "Total params: 1,057\n",
      "Trainable params: 1,057\n",
      "Non-trainable params: 0\n",
      "_________________________________________________________________\n"
     ]
    },
    {
     "name": "stderr",
     "output_type": "stream",
     "text": [
      "\r",
      " 17%|███████████████████████████████████████████▏                                                                                                                                                                                                                  | 17/100 [07:41<35:54, 25.95s/it]"
     ]
    },
    {
     "name": "stdout",
     "output_type": "stream",
     "text": [
      "Model: \"sequential_55\"\n",
      "_________________________________________________________________\n",
      "Layer (type)                 Output Shape              Param #   \n",
      "=================================================================\n",
      "dense_110 (Dense)            (None, 32)                1024      \n",
      "_________________________________________________________________\n",
      "dense_111 (Dense)            (None, 1)                 33        \n",
      "=================================================================\n",
      "Total params: 1,057\n",
      "Trainable params: 1,057\n",
      "Non-trainable params: 0\n",
      "_________________________________________________________________\n"
     ]
    },
    {
     "name": "stderr",
     "output_type": "stream",
     "text": [
      "\r",
      " 18%|█████████████████████████████████████████████▋                                                                                                                                                                                                                | 18/100 [08:06<35:07, 25.70s/it]"
     ]
    },
    {
     "name": "stdout",
     "output_type": "stream",
     "text": [
      "Model: \"sequential_56\"\n",
      "_________________________________________________________________\n",
      "Layer (type)                 Output Shape              Param #   \n",
      "=================================================================\n",
      "dense_112 (Dense)            (None, 32)                1024      \n",
      "_________________________________________________________________\n",
      "dense_113 (Dense)            (None, 1)                 33        \n",
      "=================================================================\n",
      "Total params: 1,057\n",
      "Trainable params: 1,057\n",
      "Non-trainable params: 0\n",
      "_________________________________________________________________\n"
     ]
    },
    {
     "name": "stderr",
     "output_type": "stream",
     "text": [
      "\r",
      " 19%|████████████████████████████████████████████████▎                                                                                                                                                                                                             | 19/100 [08:32<34:33, 25.60s/it]"
     ]
    },
    {
     "name": "stdout",
     "output_type": "stream",
     "text": [
      "Model: \"sequential_57\"\n",
      "_________________________________________________________________\n",
      "Layer (type)                 Output Shape              Param #   \n",
      "=================================================================\n",
      "dense_114 (Dense)            (None, 32)                1024      \n",
      "_________________________________________________________________\n",
      "dense_115 (Dense)            (None, 1)                 33        \n",
      "=================================================================\n",
      "Total params: 1,057\n",
      "Trainable params: 1,057\n",
      "Non-trainable params: 0\n",
      "_________________________________________________________________\n"
     ]
    },
    {
     "name": "stderr",
     "output_type": "stream",
     "text": [
      "\r",
      " 20%|██████████████████████████████████████████████████▊                                                                                                                                                                                                           | 20/100 [08:57<33:49, 25.37s/it]"
     ]
    },
    {
     "name": "stdout",
     "output_type": "stream",
     "text": [
      "Model: \"sequential_58\"\n",
      "_________________________________________________________________\n",
      "Layer (type)                 Output Shape              Param #   \n",
      "=================================================================\n",
      "dense_116 (Dense)            (None, 32)                1024      \n",
      "_________________________________________________________________\n",
      "dense_117 (Dense)            (None, 1)                 33        \n",
      "=================================================================\n",
      "Total params: 1,057\n",
      "Trainable params: 1,057\n",
      "Non-trainable params: 0\n",
      "_________________________________________________________________\n"
     ]
    },
    {
     "name": "stderr",
     "output_type": "stream",
     "text": [
      "\r",
      " 21%|█████████████████████████████████████████████████████▎                                                                                                                                                                                                        | 21/100 [09:22<33:15, 25.26s/it]"
     ]
    },
    {
     "name": "stdout",
     "output_type": "stream",
     "text": [
      "Model: \"sequential_59\"\n",
      "_________________________________________________________________\n",
      "Layer (type)                 Output Shape              Param #   \n",
      "=================================================================\n",
      "dense_118 (Dense)            (None, 32)                1024      \n",
      "_________________________________________________________________\n",
      "dense_119 (Dense)            (None, 1)                 33        \n",
      "=================================================================\n",
      "Total params: 1,057\n",
      "Trainable params: 1,057\n",
      "Non-trainable params: 0\n",
      "_________________________________________________________________\n"
     ]
    },
    {
     "name": "stderr",
     "output_type": "stream",
     "text": [
      "\r",
      " 22%|███████████████████████████████████████████████████████▉                                                                                                                                                                                                      | 22/100 [09:47<32:43, 25.18s/it]"
     ]
    },
    {
     "name": "stdout",
     "output_type": "stream",
     "text": [
      "Model: \"sequential_60\"\n",
      "_________________________________________________________________\n",
      "Layer (type)                 Output Shape              Param #   \n",
      "=================================================================\n",
      "dense_120 (Dense)            (None, 32)                1024      \n",
      "_________________________________________________________________\n",
      "dense_121 (Dense)            (None, 1)                 33        \n",
      "=================================================================\n",
      "Total params: 1,057\n",
      "Trainable params: 1,057\n",
      "Non-trainable params: 0\n",
      "_________________________________________________________________\n"
     ]
    },
    {
     "name": "stderr",
     "output_type": "stream",
     "text": [
      "\r",
      " 23%|██████████████████████████████████████████████████████████▍                                                                                                                                                                                                   | 23/100 [10:12<32:21, 25.22s/it]"
     ]
    },
    {
     "name": "stdout",
     "output_type": "stream",
     "text": [
      "Model: \"sequential_61\"\n",
      "_________________________________________________________________\n",
      "Layer (type)                 Output Shape              Param #   \n",
      "=================================================================\n",
      "dense_122 (Dense)            (None, 32)                1024      \n",
      "_________________________________________________________________\n",
      "dense_123 (Dense)            (None, 1)                 33        \n",
      "=================================================================\n",
      "Total params: 1,057\n",
      "Trainable params: 1,057\n",
      "Non-trainable params: 0\n",
      "_________________________________________________________________\n"
     ]
    },
    {
     "name": "stderr",
     "output_type": "stream",
     "text": [
      "\r",
      " 24%|████████████████████████████████████████████████████████████▉                                                                                                                                                                                                 | 24/100 [10:37<31:57, 25.23s/it]"
     ]
    },
    {
     "name": "stdout",
     "output_type": "stream",
     "text": [
      "Model: \"sequential_62\"\n",
      "_________________________________________________________________\n",
      "Layer (type)                 Output Shape              Param #   \n",
      "=================================================================\n",
      "dense_124 (Dense)            (None, 32)                1024      \n",
      "_________________________________________________________________\n",
      "dense_125 (Dense)            (None, 1)                 33        \n",
      "=================================================================\n",
      "Total params: 1,057\n",
      "Trainable params: 1,057\n",
      "Non-trainable params: 0\n",
      "_________________________________________________________________\n"
     ]
    },
    {
     "name": "stderr",
     "output_type": "stream",
     "text": [
      "\r",
      " 25%|███████████████████████████████████████████████████████████████▌                                                                                                                                                                                              | 25/100 [11:03<31:49, 25.46s/it]"
     ]
    },
    {
     "name": "stdout",
     "output_type": "stream",
     "text": [
      "Model: \"sequential_63\"\n",
      "_________________________________________________________________\n",
      "Layer (type)                 Output Shape              Param #   \n",
      "=================================================================\n",
      "dense_126 (Dense)            (None, 32)                1024      \n",
      "_________________________________________________________________\n",
      "dense_127 (Dense)            (None, 1)                 33        \n",
      "=================================================================\n",
      "Total params: 1,057\n",
      "Trainable params: 1,057\n",
      "Non-trainable params: 0\n",
      "_________________________________________________________________\n"
     ]
    },
    {
     "name": "stderr",
     "output_type": "stream",
     "text": [
      "\r",
      " 26%|██████████████████████████████████████████████████████████████████                                                                                                                                                                                            | 26/100 [11:28<31:18, 25.39s/it]"
     ]
    },
    {
     "name": "stdout",
     "output_type": "stream",
     "text": [
      "Model: \"sequential_64\"\n",
      "_________________________________________________________________\n",
      "Layer (type)                 Output Shape              Param #   \n",
      "=================================================================\n",
      "dense_128 (Dense)            (None, 32)                1024      \n",
      "_________________________________________________________________\n",
      "dense_129 (Dense)            (None, 1)                 33        \n",
      "=================================================================\n",
      "Total params: 1,057\n",
      "Trainable params: 1,057\n",
      "Non-trainable params: 0\n",
      "_________________________________________________________________\n"
     ]
    },
    {
     "name": "stderr",
     "output_type": "stream",
     "text": [
      "\r",
      " 27%|████████████████████████████████████████████████████████████████████▌                                                                                                                                                                                         | 27/100 [11:53<30:47, 25.31s/it]"
     ]
    },
    {
     "name": "stdout",
     "output_type": "stream",
     "text": [
      "Model: \"sequential_65\"\n",
      "_________________________________________________________________\n",
      "Layer (type)                 Output Shape              Param #   \n",
      "=================================================================\n",
      "dense_130 (Dense)            (None, 32)                1024      \n",
      "_________________________________________________________________\n",
      "dense_131 (Dense)            (None, 1)                 33        \n",
      "=================================================================\n",
      "Total params: 1,057\n",
      "Trainable params: 1,057\n",
      "Non-trainable params: 0\n",
      "_________________________________________________________________\n"
     ]
    },
    {
     "name": "stderr",
     "output_type": "stream",
     "text": [
      "\r",
      " 28%|███████████████████████████████████████████████████████████████████████                                                                                                                                                                                       | 28/100 [12:20<30:44, 25.62s/it]"
     ]
    },
    {
     "name": "stdout",
     "output_type": "stream",
     "text": [
      "Model: \"sequential_66\"\n",
      "_________________________________________________________________\n",
      "Layer (type)                 Output Shape              Param #   \n",
      "=================================================================\n",
      "dense_132 (Dense)            (None, 32)                1024      \n",
      "_________________________________________________________________\n",
      "dense_133 (Dense)            (None, 1)                 33        \n",
      "=================================================================\n",
      "Total params: 1,057\n",
      "Trainable params: 1,057\n",
      "Non-trainable params: 0\n",
      "_________________________________________________________________\n"
     ]
    },
    {
     "name": "stderr",
     "output_type": "stream",
     "text": [
      "\r",
      " 29%|█████████████████████████████████████████████████████████████████████████▋                                                                                                                                                                                    | 29/100 [12:45<30:17, 25.60s/it]"
     ]
    },
    {
     "name": "stdout",
     "output_type": "stream",
     "text": [
      "Model: \"sequential_67\"\n",
      "_________________________________________________________________\n",
      "Layer (type)                 Output Shape              Param #   \n",
      "=================================================================\n",
      "dense_134 (Dense)            (None, 32)                1024      \n",
      "_________________________________________________________________\n",
      "dense_135 (Dense)            (None, 1)                 33        \n",
      "=================================================================\n",
      "Total params: 1,057\n",
      "Trainable params: 1,057\n",
      "Non-trainable params: 0\n",
      "_________________________________________________________________\n"
     ]
    },
    {
     "name": "stderr",
     "output_type": "stream",
     "text": [
      "\r",
      " 30%|████████████████████████████████████████████████████████████████████████████▏                                                                                                                                                                                 | 30/100 [13:11<29:52, 25.60s/it]"
     ]
    },
    {
     "name": "stdout",
     "output_type": "stream",
     "text": [
      "Model: \"sequential_68\"\n",
      "_________________________________________________________________\n",
      "Layer (type)                 Output Shape              Param #   \n",
      "=================================================================\n",
      "dense_136 (Dense)            (None, 32)                1024      \n",
      "_________________________________________________________________\n",
      "dense_137 (Dense)            (None, 1)                 33        \n",
      "=================================================================\n",
      "Total params: 1,057\n",
      "Trainable params: 1,057\n",
      "Non-trainable params: 0\n",
      "_________________________________________________________________\n"
     ]
    },
    {
     "name": "stderr",
     "output_type": "stream",
     "text": [
      "\r",
      " 31%|██████████████████████████████████████████████████████████████████████████████▋                                                                                                                                                                               | 31/100 [13:37<29:27, 25.62s/it]"
     ]
    },
    {
     "name": "stdout",
     "output_type": "stream",
     "text": [
      "Model: \"sequential_69\"\n",
      "_________________________________________________________________\n",
      "Layer (type)                 Output Shape              Param #   \n",
      "=================================================================\n",
      "dense_138 (Dense)            (None, 32)                1024      \n",
      "_________________________________________________________________\n",
      "dense_139 (Dense)            (None, 1)                 33        \n",
      "=================================================================\n",
      "Total params: 1,057\n",
      "Trainable params: 1,057\n",
      "Non-trainable params: 0\n",
      "_________________________________________________________________\n"
     ]
    },
    {
     "name": "stderr",
     "output_type": "stream",
     "text": [
      "\r",
      " 32%|█████████████████████████████████████████████████████████████████████████████████▎                                                                                                                                                                            | 32/100 [14:02<29:02, 25.63s/it]"
     ]
    },
    {
     "name": "stdout",
     "output_type": "stream",
     "text": [
      "Model: \"sequential_70\"\n",
      "_________________________________________________________________\n",
      "Layer (type)                 Output Shape              Param #   \n",
      "=================================================================\n",
      "dense_140 (Dense)            (None, 32)                1024      \n",
      "_________________________________________________________________\n",
      "dense_141 (Dense)            (None, 1)                 33        \n",
      "=================================================================\n",
      "Total params: 1,057\n",
      "Trainable params: 1,057\n",
      "Non-trainable params: 0\n",
      "_________________________________________________________________\n"
     ]
    },
    {
     "name": "stderr",
     "output_type": "stream",
     "text": [
      "\r",
      " 33%|███████████████████████████████████████████████████████████████████████████████████▊                                                                                                                                                                          | 33/100 [14:27<28:26, 25.46s/it]"
     ]
    },
    {
     "name": "stdout",
     "output_type": "stream",
     "text": [
      "Model: \"sequential_71\"\n",
      "_________________________________________________________________\n",
      "Layer (type)                 Output Shape              Param #   \n",
      "=================================================================\n",
      "dense_142 (Dense)            (None, 32)                1024      \n",
      "_________________________________________________________________\n",
      "dense_143 (Dense)            (None, 1)                 33        \n",
      "=================================================================\n",
      "Total params: 1,057\n",
      "Trainable params: 1,057\n",
      "Non-trainable params: 0\n",
      "_________________________________________________________________\n"
     ]
    },
    {
     "name": "stderr",
     "output_type": "stream",
     "text": [
      "\r",
      " 34%|██████████████████████████████████████████████████████████████████████████████████████▎                                                                                                                                                                       | 34/100 [14:52<27:53, 25.36s/it]"
     ]
    },
    {
     "name": "stdout",
     "output_type": "stream",
     "text": [
      "Model: \"sequential_72\"\n",
      "_________________________________________________________________\n",
      "Layer (type)                 Output Shape              Param #   \n",
      "=================================================================\n",
      "dense_144 (Dense)            (None, 32)                1024      \n",
      "_________________________________________________________________\n",
      "dense_145 (Dense)            (None, 1)                 33        \n",
      "=================================================================\n",
      "Total params: 1,057\n",
      "Trainable params: 1,057\n",
      "Non-trainable params: 0\n",
      "_________________________________________________________________\n"
     ]
    },
    {
     "name": "stderr",
     "output_type": "stream",
     "text": [
      "\r",
      " 35%|████████████████████████████████████████████████████████████████████████████████████████▉                                                                                                                                                                     | 35/100 [15:18<27:31, 25.41s/it]"
     ]
    },
    {
     "name": "stdout",
     "output_type": "stream",
     "text": [
      "Model: \"sequential_73\"\n",
      "_________________________________________________________________\n",
      "Layer (type)                 Output Shape              Param #   \n",
      "=================================================================\n",
      "dense_146 (Dense)            (None, 32)                1024      \n",
      "_________________________________________________________________\n",
      "dense_147 (Dense)            (None, 1)                 33        \n",
      "=================================================================\n",
      "Total params: 1,057\n",
      "Trainable params: 1,057\n",
      "Non-trainable params: 0\n",
      "_________________________________________________________________\n"
     ]
    },
    {
     "name": "stderr",
     "output_type": "stream",
     "text": [
      "\r",
      " 36%|███████████████████████████████████████████████████████████████████████████████████████████▍                                                                                                                                                                  | 36/100 [15:43<26:59, 25.31s/it]"
     ]
    },
    {
     "name": "stdout",
     "output_type": "stream",
     "text": [
      "Model: \"sequential_74\"\n",
      "_________________________________________________________________\n",
      "Layer (type)                 Output Shape              Param #   \n",
      "=================================================================\n",
      "dense_148 (Dense)            (None, 32)                1024      \n",
      "_________________________________________________________________\n",
      "dense_149 (Dense)            (None, 1)                 33        \n",
      "=================================================================\n",
      "Total params: 1,057\n",
      "Trainable params: 1,057\n",
      "Non-trainable params: 0\n",
      "_________________________________________________________________\n"
     ]
    },
    {
     "name": "stderr",
     "output_type": "stream",
     "text": [
      "\r",
      " 37%|█████████████████████████████████████████████████████████████████████████████████████████████▉                                                                                                                                                                | 37/100 [16:09<26:48, 25.53s/it]"
     ]
    },
    {
     "name": "stdout",
     "output_type": "stream",
     "text": [
      "Model: \"sequential_75\"\n",
      "_________________________________________________________________\n",
      "Layer (type)                 Output Shape              Param #   \n",
      "=================================================================\n",
      "dense_150 (Dense)            (None, 32)                1024      \n",
      "_________________________________________________________________\n",
      "dense_151 (Dense)            (None, 1)                 33        \n",
      "=================================================================\n",
      "Total params: 1,057\n",
      "Trainable params: 1,057\n",
      "Non-trainable params: 0\n",
      "_________________________________________________________________\n"
     ]
    },
    {
     "name": "stderr",
     "output_type": "stream",
     "text": [
      "\r",
      " 38%|████████████████████████████████████████████████████████████████████████████████████████████████▌                                                                                                                                                             | 38/100 [16:35<26:27, 25.61s/it]"
     ]
    },
    {
     "name": "stdout",
     "output_type": "stream",
     "text": [
      "Model: \"sequential_76\"\n",
      "_________________________________________________________________\n",
      "Layer (type)                 Output Shape              Param #   \n",
      "=================================================================\n",
      "dense_152 (Dense)            (None, 32)                1024      \n",
      "_________________________________________________________________\n",
      "dense_153 (Dense)            (None, 1)                 33        \n",
      "=================================================================\n",
      "Total params: 1,057\n",
      "Trainable params: 1,057\n",
      "Non-trainable params: 0\n",
      "_________________________________________________________________\n"
     ]
    },
    {
     "name": "stderr",
     "output_type": "stream",
     "text": [
      "\r",
      " 39%|███████████████████████████████████████████████████████████████████████████████████████████████████                                                                                                                                                           | 39/100 [17:00<25:54, 25.49s/it]"
     ]
    },
    {
     "name": "stdout",
     "output_type": "stream",
     "text": [
      "Model: \"sequential_77\"\n",
      "_________________________________________________________________\n",
      "Layer (type)                 Output Shape              Param #   \n",
      "=================================================================\n",
      "dense_154 (Dense)            (None, 32)                1024      \n",
      "_________________________________________________________________\n",
      "dense_155 (Dense)            (None, 1)                 33        \n",
      "=================================================================\n",
      "Total params: 1,057\n",
      "Trainable params: 1,057\n",
      "Non-trainable params: 0\n",
      "_________________________________________________________________\n"
     ]
    },
    {
     "name": "stderr",
     "output_type": "stream",
     "text": [
      "\r",
      " 40%|█████████████████████████████████████████████████████████████████████████████████████████████████████▌                                                                                                                                                        | 40/100 [17:25<25:19, 25.32s/it]"
     ]
    },
    {
     "name": "stdout",
     "output_type": "stream",
     "text": [
      "Model: \"sequential_78\"\n",
      "_________________________________________________________________\n",
      "Layer (type)                 Output Shape              Param #   \n",
      "=================================================================\n",
      "dense_156 (Dense)            (None, 32)                1024      \n",
      "_________________________________________________________________\n",
      "dense_157 (Dense)            (None, 1)                 33        \n",
      "=================================================================\n",
      "Total params: 1,057\n",
      "Trainable params: 1,057\n",
      "Non-trainable params: 0\n",
      "_________________________________________________________________\n"
     ]
    },
    {
     "name": "stderr",
     "output_type": "stream",
     "text": [
      "\r",
      " 41%|████████████████████████████████████████████████████████████████████████████████████████████████████████▏                                                                                                                                                     | 41/100 [17:50<24:51, 25.28s/it]"
     ]
    },
    {
     "name": "stdout",
     "output_type": "stream",
     "text": [
      "Model: \"sequential_79\"\n",
      "_________________________________________________________________\n",
      "Layer (type)                 Output Shape              Param #   \n",
      "=================================================================\n",
      "dense_158 (Dense)            (None, 32)                1024      \n",
      "_________________________________________________________________\n",
      "dense_159 (Dense)            (None, 1)                 33        \n",
      "=================================================================\n",
      "Total params: 1,057\n",
      "Trainable params: 1,057\n",
      "Non-trainable params: 0\n",
      "_________________________________________________________________\n"
     ]
    },
    {
     "name": "stderr",
     "output_type": "stream",
     "text": [
      "\r",
      " 42%|██████████████████████████████████████████████████████████████████████████████████████████████████████████▋                                                                                                                                                   | 42/100 [18:16<24:28, 25.32s/it]"
     ]
    },
    {
     "name": "stdout",
     "output_type": "stream",
     "text": [
      "Model: \"sequential_80\"\n",
      "_________________________________________________________________\n",
      "Layer (type)                 Output Shape              Param #   \n",
      "=================================================================\n",
      "dense_160 (Dense)            (None, 32)                1024      \n",
      "_________________________________________________________________\n",
      "dense_161 (Dense)            (None, 1)                 33        \n",
      "=================================================================\n",
      "Total params: 1,057\n",
      "Trainable params: 1,057\n",
      "Non-trainable params: 0\n",
      "_________________________________________________________________\n"
     ]
    },
    {
     "name": "stderr",
     "output_type": "stream",
     "text": [
      "\r",
      " 43%|█████████████████████████████████████████████████████████████████████████████████████████████████████████████▏                                                                                                                                                | 43/100 [18:41<24:01, 25.29s/it]"
     ]
    },
    {
     "name": "stdout",
     "output_type": "stream",
     "text": [
      "Model: \"sequential_81\"\n",
      "_________________________________________________________________\n",
      "Layer (type)                 Output Shape              Param #   \n",
      "=================================================================\n",
      "dense_162 (Dense)            (None, 32)                1024      \n",
      "_________________________________________________________________\n",
      "dense_163 (Dense)            (None, 1)                 33        \n",
      "=================================================================\n",
      "Total params: 1,057\n",
      "Trainable params: 1,057\n",
      "Non-trainable params: 0\n",
      "_________________________________________________________________\n"
     ]
    },
    {
     "name": "stderr",
     "output_type": "stream",
     "text": [
      "\r",
      " 44%|███████████████████████████████████████████████████████████████████████████████████████████████████████████████▊                                                                                                                                              | 44/100 [19:08<24:06, 25.83s/it]"
     ]
    },
    {
     "name": "stdout",
     "output_type": "stream",
     "text": [
      "Model: \"sequential_82\"\n",
      "_________________________________________________________________\n",
      "Layer (type)                 Output Shape              Param #   \n",
      "=================================================================\n",
      "dense_164 (Dense)            (None, 32)                1024      \n",
      "_________________________________________________________________\n",
      "dense_165 (Dense)            (None, 1)                 33        \n",
      "=================================================================\n",
      "Total params: 1,057\n",
      "Trainable params: 1,057\n",
      "Non-trainable params: 0\n",
      "_________________________________________________________________\n"
     ]
    },
    {
     "name": "stderr",
     "output_type": "stream",
     "text": [
      "\r",
      " 45%|██████████████████████████████████████████████████████████████████████████████████████████████████████████████████▎                                                                                                                                           | 45/100 [19:34<23:38, 25.78s/it]"
     ]
    },
    {
     "name": "stdout",
     "output_type": "stream",
     "text": [
      "Model: \"sequential_83\"\n",
      "_________________________________________________________________\n",
      "Layer (type)                 Output Shape              Param #   \n",
      "=================================================================\n",
      "dense_166 (Dense)            (None, 32)                1024      \n",
      "_________________________________________________________________\n",
      "dense_167 (Dense)            (None, 1)                 33        \n",
      "=================================================================\n",
      "Total params: 1,057\n",
      "Trainable params: 1,057\n",
      "Non-trainable params: 0\n",
      "_________________________________________________________________\n"
     ]
    },
    {
     "name": "stderr",
     "output_type": "stream",
     "text": [
      "\r",
      " 46%|████████████████████████████████████████████████████████████████████████████████████████████████████████████████████▊                                                                                                                                         | 46/100 [19:59<23:10, 25.75s/it]"
     ]
    },
    {
     "name": "stdout",
     "output_type": "stream",
     "text": [
      "Model: \"sequential_84\"\n",
      "_________________________________________________________________\n",
      "Layer (type)                 Output Shape              Param #   \n",
      "=================================================================\n",
      "dense_168 (Dense)            (None, 32)                1024      \n",
      "_________________________________________________________________\n",
      "dense_169 (Dense)            (None, 1)                 33        \n",
      "=================================================================\n",
      "Total params: 1,057\n",
      "Trainable params: 1,057\n",
      "Non-trainable params: 0\n",
      "_________________________________________________________________\n"
     ]
    },
    {
     "name": "stderr",
     "output_type": "stream",
     "text": [
      "\r",
      " 47%|███████████████████████████████████████████████████████████████████████████████████████████████████████████████████████▍                                                                                                                                      | 47/100 [20:25<22:42, 25.71s/it]"
     ]
    },
    {
     "name": "stdout",
     "output_type": "stream",
     "text": [
      "Model: \"sequential_85\"\n",
      "_________________________________________________________________\n",
      "Layer (type)                 Output Shape              Param #   \n",
      "=================================================================\n",
      "dense_170 (Dense)            (None, 32)                1024      \n",
      "_________________________________________________________________\n",
      "dense_171 (Dense)            (None, 1)                 33        \n",
      "=================================================================\n",
      "Total params: 1,057\n",
      "Trainable params: 1,057\n",
      "Non-trainable params: 0\n",
      "_________________________________________________________________\n"
     ]
    },
    {
     "name": "stderr",
     "output_type": "stream",
     "text": [
      "\r",
      " 48%|█████████████████████████████████████████████████████████████████████████████████████████████████████████████████████████▉                                                                                                                                    | 48/100 [20:50<22:12, 25.63s/it]"
     ]
    },
    {
     "name": "stdout",
     "output_type": "stream",
     "text": [
      "Model: \"sequential_86\"\n",
      "_________________________________________________________________\n",
      "Layer (type)                 Output Shape              Param #   \n",
      "=================================================================\n",
      "dense_172 (Dense)            (None, 32)                1024      \n",
      "_________________________________________________________________\n",
      "dense_173 (Dense)            (None, 1)                 33        \n",
      "=================================================================\n",
      "Total params: 1,057\n",
      "Trainable params: 1,057\n",
      "Non-trainable params: 0\n",
      "_________________________________________________________________\n"
     ]
    },
    {
     "name": "stderr",
     "output_type": "stream",
     "text": [
      "\r",
      " 49%|████████████████████████████████████████████████████████████████████████████████████████████████████████████████████████████▍                                                                                                                                 | 49/100 [21:16<21:40, 25.50s/it]"
     ]
    },
    {
     "name": "stdout",
     "output_type": "stream",
     "text": [
      "Model: \"sequential_87\"\n",
      "_________________________________________________________________\n",
      "Layer (type)                 Output Shape              Param #   \n",
      "=================================================================\n",
      "dense_174 (Dense)            (None, 32)                1024      \n",
      "_________________________________________________________________\n",
      "dense_175 (Dense)            (None, 1)                 33        \n",
      "=================================================================\n",
      "Total params: 1,057\n",
      "Trainable params: 1,057\n",
      "Non-trainable params: 0\n",
      "_________________________________________________________________\n"
     ]
    },
    {
     "name": "stderr",
     "output_type": "stream",
     "text": [
      "\r",
      " 50%|███████████████████████████████████████████████████████████████████████████████████████████████████████████████████████████████                                                                                                                               | 50/100 [21:42<21:24, 25.68s/it]"
     ]
    },
    {
     "name": "stdout",
     "output_type": "stream",
     "text": [
      "Model: \"sequential_88\"\n",
      "_________________________________________________________________\n",
      "Layer (type)                 Output Shape              Param #   \n",
      "=================================================================\n",
      "dense_176 (Dense)            (None, 32)                1024      \n",
      "_________________________________________________________________\n",
      "dense_177 (Dense)            (None, 1)                 33        \n",
      "=================================================================\n",
      "Total params: 1,057\n",
      "Trainable params: 1,057\n",
      "Non-trainable params: 0\n",
      "_________________________________________________________________\n"
     ]
    },
    {
     "name": "stderr",
     "output_type": "stream",
     "text": [
      "\r",
      " 51%|█████████████████████████████████████████████████████████████████████████████████████████████████████████████████████████████████▌                                                                                                                            | 51/100 [22:07<21:00, 25.73s/it]"
     ]
    },
    {
     "name": "stdout",
     "output_type": "stream",
     "text": [
      "Model: \"sequential_89\"\n",
      "_________________________________________________________________\n",
      "Layer (type)                 Output Shape              Param #   \n",
      "=================================================================\n",
      "dense_178 (Dense)            (None, 32)                1024      \n",
      "_________________________________________________________________\n",
      "dense_179 (Dense)            (None, 1)                 33        \n",
      "=================================================================\n",
      "Total params: 1,057\n",
      "Trainable params: 1,057\n",
      "Non-trainable params: 0\n",
      "_________________________________________________________________\n"
     ]
    },
    {
     "name": "stderr",
     "output_type": "stream",
     "text": [
      "\r",
      " 52%|████████████████████████████████████████████████████████████████████████████████████████████████████████████████████████████████████                                                                                                                          | 52/100 [22:35<21:03, 26.33s/it]"
     ]
    },
    {
     "name": "stdout",
     "output_type": "stream",
     "text": [
      "Model: \"sequential_90\"\n",
      "_________________________________________________________________\n",
      "Layer (type)                 Output Shape              Param #   \n",
      "=================================================================\n",
      "dense_180 (Dense)            (None, 32)                1024      \n",
      "_________________________________________________________________\n",
      "dense_181 (Dense)            (None, 1)                 33        \n",
      "=================================================================\n",
      "Total params: 1,057\n",
      "Trainable params: 1,057\n",
      "Non-trainable params: 0\n",
      "_________________________________________________________________\n"
     ]
    },
    {
     "name": "stderr",
     "output_type": "stream",
     "text": [
      "\r",
      " 53%|██████████████████████████████████████████████████████████████████████████████████████████████████████████████████████████████████████▌                                                                                                                       | 53/100 [23:00<20:21, 25.98s/it]"
     ]
    },
    {
     "name": "stdout",
     "output_type": "stream",
     "text": [
      "Model: \"sequential_91\"\n",
      "_________________________________________________________________\n",
      "Layer (type)                 Output Shape              Param #   \n",
      "=================================================================\n",
      "dense_182 (Dense)            (None, 32)                1024      \n",
      "_________________________________________________________________\n",
      "dense_183 (Dense)            (None, 1)                 33        \n",
      "=================================================================\n",
      "Total params: 1,057\n",
      "Trainable params: 1,057\n",
      "Non-trainable params: 0\n",
      "_________________________________________________________________\n"
     ]
    },
    {
     "name": "stderr",
     "output_type": "stream",
     "text": [
      "\r",
      " 54%|█████████████████████████████████████████████████████████████████████████████████████████████████████████████████████████████████████████▏                                                                                                                    | 54/100 [23:26<19:45, 25.77s/it]"
     ]
    },
    {
     "name": "stdout",
     "output_type": "stream",
     "text": [
      "Model: \"sequential_92\"\n",
      "_________________________________________________________________\n",
      "Layer (type)                 Output Shape              Param #   \n",
      "=================================================================\n",
      "dense_184 (Dense)            (None, 32)                1024      \n",
      "_________________________________________________________________\n",
      "dense_185 (Dense)            (None, 1)                 33        \n",
      "=================================================================\n",
      "Total params: 1,057\n",
      "Trainable params: 1,057\n",
      "Non-trainable params: 0\n",
      "_________________________________________________________________\n"
     ]
    },
    {
     "name": "stderr",
     "output_type": "stream",
     "text": [
      "\r",
      " 55%|███████████████████████████████████████████████████████████████████████████████████████████████████████████████████████████████████████████▋                                                                                                                  | 55/100 [23:51<19:19, 25.77s/it]"
     ]
    },
    {
     "name": "stdout",
     "output_type": "stream",
     "text": [
      "Model: \"sequential_93\"\n",
      "_________________________________________________________________\n",
      "Layer (type)                 Output Shape              Param #   \n",
      "=================================================================\n",
      "dense_186 (Dense)            (None, 32)                1024      \n",
      "_________________________________________________________________\n",
      "dense_187 (Dense)            (None, 1)                 33        \n",
      "=================================================================\n",
      "Total params: 1,057\n",
      "Trainable params: 1,057\n",
      "Non-trainable params: 0\n",
      "_________________________________________________________________\n"
     ]
    },
    {
     "name": "stderr",
     "output_type": "stream",
     "text": [
      "\r",
      " 56%|██████████████████████████████████████████████████████████████████████████████████████████████████████████████████████████████████████████████▏                                                                                                               | 56/100 [24:17<18:46, 25.60s/it]"
     ]
    },
    {
     "name": "stdout",
     "output_type": "stream",
     "text": [
      "Model: \"sequential_94\"\n",
      "_________________________________________________________________\n",
      "Layer (type)                 Output Shape              Param #   \n",
      "=================================================================\n",
      "dense_188 (Dense)            (None, 32)                1024      \n",
      "_________________________________________________________________\n",
      "dense_189 (Dense)            (None, 1)                 33        \n",
      "=================================================================\n",
      "Total params: 1,057\n",
      "Trainable params: 1,057\n",
      "Non-trainable params: 0\n",
      "_________________________________________________________________\n"
     ]
    },
    {
     "name": "stderr",
     "output_type": "stream",
     "text": [
      "\r",
      " 57%|████████████████████████████████████████████████████████████████████████████████████████████████████████████████████████████████████████████████▊                                                                                                             | 57/100 [24:43<18:24, 25.69s/it]"
     ]
    },
    {
     "name": "stdout",
     "output_type": "stream",
     "text": [
      "Model: \"sequential_95\"\n",
      "_________________________________________________________________\n",
      "Layer (type)                 Output Shape              Param #   \n",
      "=================================================================\n",
      "dense_190 (Dense)            (None, 32)                1024      \n",
      "_________________________________________________________________\n",
      "dense_191 (Dense)            (None, 1)                 33        \n",
      "=================================================================\n",
      "Total params: 1,057\n",
      "Trainable params: 1,057\n",
      "Non-trainable params: 0\n",
      "_________________________________________________________________\n"
     ]
    },
    {
     "name": "stderr",
     "output_type": "stream",
     "text": [
      "\r",
      " 58%|███████████████████████████████████████████████████████████████████████████████████████████████████████████████████████████████████████████████████▎                                                                                                          | 58/100 [25:08<17:50, 25.49s/it]"
     ]
    },
    {
     "name": "stdout",
     "output_type": "stream",
     "text": [
      "Model: \"sequential_96\"\n",
      "_________________________________________________________________\n",
      "Layer (type)                 Output Shape              Param #   \n",
      "=================================================================\n",
      "dense_192 (Dense)            (None, 32)                1024      \n",
      "_________________________________________________________________\n",
      "dense_193 (Dense)            (None, 1)                 33        \n",
      "=================================================================\n",
      "Total params: 1,057\n",
      "Trainable params: 1,057\n",
      "Non-trainable params: 0\n",
      "_________________________________________________________________\n"
     ]
    },
    {
     "name": "stderr",
     "output_type": "stream",
     "text": [
      "\r",
      " 59%|█████████████████████████████████████████████████████████████████████████████████████████████████████████████████████████████████████████████████████▊                                                                                                        | 59/100 [25:33<17:21, 25.40s/it]"
     ]
    },
    {
     "name": "stdout",
     "output_type": "stream",
     "text": [
      "Model: \"sequential_97\"\n",
      "_________________________________________________________________\n",
      "Layer (type)                 Output Shape              Param #   \n",
      "=================================================================\n",
      "dense_194 (Dense)            (None, 32)                1024      \n",
      "_________________________________________________________________\n",
      "dense_195 (Dense)            (None, 1)                 33        \n",
      "=================================================================\n",
      "Total params: 1,057\n",
      "Trainable params: 1,057\n",
      "Non-trainable params: 0\n",
      "_________________________________________________________________\n"
     ]
    },
    {
     "name": "stderr",
     "output_type": "stream",
     "text": [
      "\r",
      " 60%|████████████████████████████████████████████████████████████████████████████████████████████████████████████████████████████████████████████████████████▍                                                                                                     | 60/100 [25:58<16:51, 25.30s/it]"
     ]
    },
    {
     "name": "stdout",
     "output_type": "stream",
     "text": [
      "Model: \"sequential_98\"\n",
      "_________________________________________________________________\n",
      "Layer (type)                 Output Shape              Param #   \n",
      "=================================================================\n",
      "dense_196 (Dense)            (None, 32)                1024      \n",
      "_________________________________________________________________\n",
      "dense_197 (Dense)            (None, 1)                 33        \n",
      "=================================================================\n",
      "Total params: 1,057\n",
      "Trainable params: 1,057\n",
      "Non-trainable params: 0\n",
      "_________________________________________________________________\n"
     ]
    },
    {
     "name": "stderr",
     "output_type": "stream",
     "text": [
      "\r",
      " 61%|██████████████████████████████████████████████████████████████████████████████████████████████████████████████████████████████████████████████████████████▉                                                                                                   | 61/100 [26:23<16:24, 25.25s/it]"
     ]
    },
    {
     "name": "stdout",
     "output_type": "stream",
     "text": [
      "Model: \"sequential_99\"\n",
      "_________________________________________________________________\n",
      "Layer (type)                 Output Shape              Param #   \n",
      "=================================================================\n",
      "dense_198 (Dense)            (None, 32)                1024      \n",
      "_________________________________________________________________\n",
      "dense_199 (Dense)            (None, 1)                 33        \n",
      "=================================================================\n",
      "Total params: 1,057\n",
      "Trainable params: 1,057\n",
      "Non-trainable params: 0\n",
      "_________________________________________________________________\n"
     ]
    },
    {
     "name": "stderr",
     "output_type": "stream",
     "text": [
      "\r",
      " 62%|█████████████████████████████████████████████████████████████████████████████████████████████████████████████████████████████████████████████████████████████▍                                                                                                | 62/100 [26:48<15:58, 25.22s/it]"
     ]
    },
    {
     "name": "stdout",
     "output_type": "stream",
     "text": [
      "Model: \"sequential_100\"\n",
      "_________________________________________________________________\n",
      "Layer (type)                 Output Shape              Param #   \n",
      "=================================================================\n",
      "dense_200 (Dense)            (None, 32)                1024      \n",
      "_________________________________________________________________\n",
      "dense_201 (Dense)            (None, 1)                 33        \n",
      "=================================================================\n",
      "Total params: 1,057\n",
      "Trainable params: 1,057\n",
      "Non-trainable params: 0\n",
      "_________________________________________________________________\n"
     ]
    },
    {
     "name": "stderr",
     "output_type": "stream",
     "text": [
      "\r",
      " 63%|████████████████████████████████████████████████████████████████████████████████████████████████████████████████████████████████████████████████████████████████                                                                                              | 63/100 [27:14<15:39, 25.39s/it]"
     ]
    },
    {
     "name": "stdout",
     "output_type": "stream",
     "text": [
      "Model: \"sequential_101\"\n",
      "_________________________________________________________________\n",
      "Layer (type)                 Output Shape              Param #   \n",
      "=================================================================\n",
      "dense_202 (Dense)            (None, 32)                1024      \n",
      "_________________________________________________________________\n",
      "dense_203 (Dense)            (None, 1)                 33        \n",
      "=================================================================\n",
      "Total params: 1,057\n",
      "Trainable params: 1,057\n",
      "Non-trainable params: 0\n",
      "_________________________________________________________________\n"
     ]
    },
    {
     "name": "stderr",
     "output_type": "stream",
     "text": [
      "\r",
      " 64%|██████████████████████████████████████████████████████████████████████████████████████████████████████████████████████████████████████████████████████████████████▌                                                                                           | 64/100 [27:40<15:22, 25.61s/it]"
     ]
    },
    {
     "name": "stdout",
     "output_type": "stream",
     "text": [
      "Model: \"sequential_102\"\n",
      "_________________________________________________________________\n",
      "Layer (type)                 Output Shape              Param #   \n",
      "=================================================================\n",
      "dense_204 (Dense)            (None, 32)                1024      \n",
      "_________________________________________________________________\n",
      "dense_205 (Dense)            (None, 1)                 33        \n",
      "=================================================================\n",
      "Total params: 1,057\n",
      "Trainable params: 1,057\n",
      "Non-trainable params: 0\n",
      "_________________________________________________________________\n"
     ]
    },
    {
     "name": "stderr",
     "output_type": "stream",
     "text": [
      "\r",
      " 65%|█████████████████████████████████████████████████████████████████████████████████████████████████████████████████████████████████████████████████████████████████████                                                                                         | 65/100 [28:05<14:50, 25.45s/it]"
     ]
    },
    {
     "name": "stdout",
     "output_type": "stream",
     "text": [
      "Model: \"sequential_103\"\n",
      "_________________________________________________________________\n",
      "Layer (type)                 Output Shape              Param #   \n",
      "=================================================================\n",
      "dense_206 (Dense)            (None, 32)                1024      \n",
      "_________________________________________________________________\n",
      "dense_207 (Dense)            (None, 1)                 33        \n",
      "=================================================================\n",
      "Total params: 1,057\n",
      "Trainable params: 1,057\n",
      "Non-trainable params: 0\n",
      "_________________________________________________________________\n"
     ]
    },
    {
     "name": "stderr",
     "output_type": "stream",
     "text": [
      "\r",
      " 66%|███████████████████████████████████████████████████████████████████████████████████████████████████████████████████████████████████████████████████████████████████████▋                                                                                      | 66/100 [28:30<14:18, 25.26s/it]"
     ]
    },
    {
     "name": "stdout",
     "output_type": "stream",
     "text": [
      "Model: \"sequential_104\"\n",
      "_________________________________________________________________\n",
      "Layer (type)                 Output Shape              Param #   \n",
      "=================================================================\n",
      "dense_208 (Dense)            (None, 32)                1024      \n",
      "_________________________________________________________________\n",
      "dense_209 (Dense)            (None, 1)                 33        \n",
      "=================================================================\n",
      "Total params: 1,057\n",
      "Trainable params: 1,057\n",
      "Non-trainable params: 0\n",
      "_________________________________________________________________\n"
     ]
    },
    {
     "name": "stderr",
     "output_type": "stream",
     "text": [
      "\r",
      " 67%|██████████████████████████████████████████████████████████████████████████████████████████████████████████████████████████████████████████████████████████████████████████▏                                                                                   | 67/100 [28:55<13:53, 25.27s/it]"
     ]
    },
    {
     "name": "stdout",
     "output_type": "stream",
     "text": [
      "Model: \"sequential_105\"\n",
      "_________________________________________________________________\n",
      "Layer (type)                 Output Shape              Param #   \n",
      "=================================================================\n",
      "dense_210 (Dense)            (None, 32)                1024      \n",
      "_________________________________________________________________\n",
      "dense_211 (Dense)            (None, 1)                 33        \n",
      "=================================================================\n",
      "Total params: 1,057\n",
      "Trainable params: 1,057\n",
      "Non-trainable params: 0\n",
      "_________________________________________________________________\n"
     ]
    },
    {
     "name": "stderr",
     "output_type": "stream",
     "text": [
      "\r",
      " 68%|████████████████████████████████████████████████████████████████████████████████████████████████████████████████████████████████████████████████████████████████████████████▋                                                                                 | 68/100 [29:20<13:27, 25.22s/it]"
     ]
    },
    {
     "name": "stdout",
     "output_type": "stream",
     "text": [
      "Model: \"sequential_106\"\n",
      "_________________________________________________________________\n",
      "Layer (type)                 Output Shape              Param #   \n",
      "=================================================================\n",
      "dense_212 (Dense)            (None, 32)                1024      \n",
      "_________________________________________________________________\n",
      "dense_213 (Dense)            (None, 1)                 33        \n",
      "=================================================================\n",
      "Total params: 1,057\n",
      "Trainable params: 1,057\n",
      "Non-trainable params: 0\n",
      "_________________________________________________________________\n"
     ]
    },
    {
     "name": "stderr",
     "output_type": "stream",
     "text": [
      "\r",
      " 69%|███████████████████████████████████████████████████████████████████████████████████████████████████████████████████████████████████████████████████████████████████████████████▎                                                                              | 69/100 [29:46<13:08, 25.42s/it]"
     ]
    },
    {
     "name": "stdout",
     "output_type": "stream",
     "text": [
      "Model: \"sequential_107\"\n",
      "_________________________________________________________________\n",
      "Layer (type)                 Output Shape              Param #   \n",
      "=================================================================\n",
      "dense_214 (Dense)            (None, 32)                1024      \n",
      "_________________________________________________________________\n",
      "dense_215 (Dense)            (None, 1)                 33        \n",
      "=================================================================\n",
      "Total params: 1,057\n",
      "Trainable params: 1,057\n",
      "Non-trainable params: 0\n",
      "_________________________________________________________________\n"
     ]
    },
    {
     "name": "stderr",
     "output_type": "stream",
     "text": [
      "\r",
      " 70%|█████████████████████████████████████████████████████████████████████████████████████████████████████████████████████████████████████████████████████████████████████████████████▊                                                                            | 70/100 [30:12<12:45, 25.51s/it]"
     ]
    },
    {
     "name": "stdout",
     "output_type": "stream",
     "text": [
      "Model: \"sequential_108\"\n",
      "_________________________________________________________________\n",
      "Layer (type)                 Output Shape              Param #   \n",
      "=================================================================\n",
      "dense_216 (Dense)            (None, 32)                1024      \n",
      "_________________________________________________________________\n",
      "dense_217 (Dense)            (None, 1)                 33        \n",
      "=================================================================\n",
      "Total params: 1,057\n",
      "Trainable params: 1,057\n",
      "Non-trainable params: 0\n",
      "_________________________________________________________________\n"
     ]
    },
    {
     "name": "stderr",
     "output_type": "stream",
     "text": [
      "\r",
      " 71%|████████████████████████████████████████████████████████████████████████████████████████████████████████████████████████████████████████████████████████████████████████████████████▎                                                                         | 71/100 [30:37<12:20, 25.54s/it]"
     ]
    },
    {
     "name": "stdout",
     "output_type": "stream",
     "text": [
      "Model: \"sequential_109\"\n",
      "_________________________________________________________________\n",
      "Layer (type)                 Output Shape              Param #   \n",
      "=================================================================\n",
      "dense_218 (Dense)            (None, 32)                1024      \n",
      "_________________________________________________________________\n",
      "dense_219 (Dense)            (None, 1)                 33        \n",
      "=================================================================\n",
      "Total params: 1,057\n",
      "Trainable params: 1,057\n",
      "Non-trainable params: 0\n",
      "_________________________________________________________________\n"
     ]
    },
    {
     "name": "stderr",
     "output_type": "stream",
     "text": [
      "\r",
      " 72%|██████████████████████████████████████████████████████████████████████████████████████████████████████████████████████████████████████████████████████████████████████████████████████▉                                                                       | 72/100 [31:03<11:53, 25.49s/it]"
     ]
    },
    {
     "name": "stdout",
     "output_type": "stream",
     "text": [
      "Model: \"sequential_110\"\n",
      "_________________________________________________________________\n",
      "Layer (type)                 Output Shape              Param #   \n",
      "=================================================================\n",
      "dense_220 (Dense)            (None, 32)                1024      \n",
      "_________________________________________________________________\n",
      "dense_221 (Dense)            (None, 1)                 33        \n",
      "=================================================================\n",
      "Total params: 1,057\n",
      "Trainable params: 1,057\n",
      "Non-trainable params: 0\n",
      "_________________________________________________________________\n"
     ]
    },
    {
     "name": "stderr",
     "output_type": "stream",
     "text": [
      "\r",
      " 73%|█████████████████████████████████████████████████████████████████████████████████████████████████████████████████████████████████████████████████████████████████████████████████████████▍                                                                    | 73/100 [31:28<11:26, 25.43s/it]"
     ]
    },
    {
     "name": "stdout",
     "output_type": "stream",
     "text": [
      "Model: \"sequential_111\"\n",
      "_________________________________________________________________\n",
      "Layer (type)                 Output Shape              Param #   \n",
      "=================================================================\n",
      "dense_222 (Dense)            (None, 32)                1024      \n",
      "_________________________________________________________________\n",
      "dense_223 (Dense)            (None, 1)                 33        \n",
      "=================================================================\n",
      "Total params: 1,057\n",
      "Trainable params: 1,057\n",
      "Non-trainable params: 0\n",
      "_________________________________________________________________\n"
     ]
    },
    {
     "name": "stderr",
     "output_type": "stream",
     "text": [
      "\r",
      " 74%|███████████████████████████████████████████████████████████████████████████████████████████████████████████████████████████████████████████████████████████████████████████████████████████▉                                                                  | 74/100 [31:54<11:00, 25.40s/it]"
     ]
    },
    {
     "name": "stdout",
     "output_type": "stream",
     "text": [
      "Model: \"sequential_112\"\n",
      "_________________________________________________________________\n",
      "Layer (type)                 Output Shape              Param #   \n",
      "=================================================================\n",
      "dense_224 (Dense)            (None, 32)                1024      \n",
      "_________________________________________________________________\n",
      "dense_225 (Dense)            (None, 1)                 33        \n",
      "=================================================================\n",
      "Total params: 1,057\n",
      "Trainable params: 1,057\n",
      "Non-trainable params: 0\n",
      "_________________________________________________________________\n"
     ]
    },
    {
     "name": "stderr",
     "output_type": "stream",
     "text": [
      "\r",
      " 75%|██████████████████████████████████████████████████████████████████████████████████████████████████████████████████████████████████████████████████████████████████████████████████████████████▌                                                               | 75/100 [32:20<10:43, 25.72s/it]"
     ]
    },
    {
     "name": "stdout",
     "output_type": "stream",
     "text": [
      "Model: \"sequential_113\"\n",
      "_________________________________________________________________\n",
      "Layer (type)                 Output Shape              Param #   \n",
      "=================================================================\n",
      "dense_226 (Dense)            (None, 32)                1024      \n",
      "_________________________________________________________________\n",
      "dense_227 (Dense)            (None, 1)                 33        \n",
      "=================================================================\n",
      "Total params: 1,057\n",
      "Trainable params: 1,057\n",
      "Non-trainable params: 0\n",
      "_________________________________________________________________\n"
     ]
    },
    {
     "name": "stderr",
     "output_type": "stream",
     "text": [
      "\r",
      " 76%|█████████████████████████████████████████████████████████████████████████████████████████████████████████████████████████████████████████████████████████████████████████████████████████████████                                                             | 76/100 [32:46<10:22, 25.94s/it]"
     ]
    },
    {
     "name": "stdout",
     "output_type": "stream",
     "text": [
      "Model: \"sequential_114\"\n",
      "_________________________________________________________________\n",
      "Layer (type)                 Output Shape              Param #   \n",
      "=================================================================\n",
      "dense_228 (Dense)            (None, 32)                1024      \n",
      "_________________________________________________________________\n",
      "dense_229 (Dense)            (None, 1)                 33        \n",
      "=================================================================\n",
      "Total params: 1,057\n",
      "Trainable params: 1,057\n",
      "Non-trainable params: 0\n",
      "_________________________________________________________________\n"
     ]
    },
    {
     "name": "stderr",
     "output_type": "stream",
     "text": [
      "\r",
      " 77%|███████████████████████████████████████████████████████████████████████████████████████████████████████████████████████████████████████████████████████████████████████████████████████████████████▌                                                          | 77/100 [33:13<09:57, 26.00s/it]"
     ]
    },
    {
     "name": "stdout",
     "output_type": "stream",
     "text": [
      "Model: \"sequential_115\"\n",
      "_________________________________________________________________\n",
      "Layer (type)                 Output Shape              Param #   \n",
      "=================================================================\n",
      "dense_230 (Dense)            (None, 32)                1024      \n",
      "_________________________________________________________________\n",
      "dense_231 (Dense)            (None, 1)                 33        \n",
      "=================================================================\n",
      "Total params: 1,057\n",
      "Trainable params: 1,057\n",
      "Non-trainable params: 0\n",
      "_________________________________________________________________\n"
     ]
    },
    {
     "name": "stderr",
     "output_type": "stream",
     "text": [
      "\r",
      " 78%|██████████████████████████████████████████████████████████████████████████████████████████████████████████████████████████████████████████████████████████████████████████████████████████████████████                                                        | 78/100 [33:37<09:24, 25.65s/it]"
     ]
    },
    {
     "name": "stdout",
     "output_type": "stream",
     "text": [
      "Model: \"sequential_116\"\n",
      "_________________________________________________________________\n",
      "Layer (type)                 Output Shape              Param #   \n",
      "=================================================================\n",
      "dense_232 (Dense)            (None, 32)                1024      \n",
      "_________________________________________________________________\n",
      "dense_233 (Dense)            (None, 1)                 33        \n",
      "=================================================================\n",
      "Total params: 1,057\n",
      "Trainable params: 1,057\n",
      "Non-trainable params: 0\n",
      "_________________________________________________________________\n"
     ]
    },
    {
     "name": "stderr",
     "output_type": "stream",
     "text": [
      "\r",
      " 79%|████████████████████████████████████████████████████████████████████████████████████████████████████████████████████████████████████████████████████████████████████████████████████████████████████████▋                                                     | 79/100 [34:03<08:59, 25.71s/it]"
     ]
    },
    {
     "name": "stdout",
     "output_type": "stream",
     "text": [
      "Model: \"sequential_117\"\n",
      "_________________________________________________________________\n",
      "Layer (type)                 Output Shape              Param #   \n",
      "=================================================================\n",
      "dense_234 (Dense)            (None, 32)                1024      \n",
      "_________________________________________________________________\n",
      "dense_235 (Dense)            (None, 1)                 33        \n",
      "=================================================================\n",
      "Total params: 1,057\n",
      "Trainable params: 1,057\n",
      "Non-trainable params: 0\n",
      "_________________________________________________________________\n"
     ]
    },
    {
     "name": "stderr",
     "output_type": "stream",
     "text": [
      "\r",
      " 80%|███████████████████████████████████████████████████████████████████████████████████████████████████████████████████████████████████████████████████████████████████████████████████████████████████████████▏                                                  | 80/100 [34:29<08:36, 25.83s/it]"
     ]
    },
    {
     "name": "stdout",
     "output_type": "stream",
     "text": [
      "Model: \"sequential_118\"\n",
      "_________________________________________________________________\n",
      "Layer (type)                 Output Shape              Param #   \n",
      "=================================================================\n",
      "dense_236 (Dense)            (None, 32)                1024      \n",
      "_________________________________________________________________\n",
      "dense_237 (Dense)            (None, 1)                 33        \n",
      "=================================================================\n",
      "Total params: 1,057\n",
      "Trainable params: 1,057\n",
      "Non-trainable params: 0\n",
      "_________________________________________________________________\n"
     ]
    },
    {
     "name": "stderr",
     "output_type": "stream",
     "text": [
      "\r",
      " 81%|█████████████████████████████████████████████████████████████████████████████████████████████████████████████████████████████████████████████████████████████████████████████████████████████████████████████▋                                                | 81/100 [34:56<08:16, 26.13s/it]"
     ]
    },
    {
     "name": "stdout",
     "output_type": "stream",
     "text": [
      "Model: \"sequential_119\"\n",
      "_________________________________________________________________\n",
      "Layer (type)                 Output Shape              Param #   \n",
      "=================================================================\n",
      "dense_238 (Dense)            (None, 32)                1024      \n",
      "_________________________________________________________________\n",
      "dense_239 (Dense)            (None, 1)                 33        \n",
      "=================================================================\n",
      "Total params: 1,057\n",
      "Trainable params: 1,057\n",
      "Non-trainable params: 0\n",
      "_________________________________________________________________\n"
     ]
    },
    {
     "name": "stderr",
     "output_type": "stream",
     "text": [
      "\r",
      " 82%|████████████████████████████████████████████████████████████████████████████████████████████████████████████████████████████████████████████████████████████████████████████████████████████████████████████████▎                                             | 82/100 [35:24<07:56, 26.49s/it]"
     ]
    },
    {
     "name": "stdout",
     "output_type": "stream",
     "text": [
      "Model: \"sequential_120\"\n",
      "_________________________________________________________________\n",
      "Layer (type)                 Output Shape              Param #   \n",
      "=================================================================\n",
      "dense_240 (Dense)            (None, 32)                1024      \n",
      "_________________________________________________________________\n",
      "dense_241 (Dense)            (None, 1)                 33        \n",
      "=================================================================\n",
      "Total params: 1,057\n",
      "Trainable params: 1,057\n",
      "Non-trainable params: 0\n",
      "_________________________________________________________________\n"
     ]
    },
    {
     "name": "stderr",
     "output_type": "stream",
     "text": [
      "\r",
      " 83%|██████████████████████████████████████████████████████████████████████████████████████████████████████████████████████████████████████████████████████████████████████████████████████████████████████████████████▊                                           | 83/100 [35:53<07:44, 27.33s/it]"
     ]
    },
    {
     "name": "stdout",
     "output_type": "stream",
     "text": [
      "Model: \"sequential_121\"\n",
      "_________________________________________________________________\n",
      "Layer (type)                 Output Shape              Param #   \n",
      "=================================================================\n",
      "dense_242 (Dense)            (None, 32)                1024      \n",
      "_________________________________________________________________\n",
      "dense_243 (Dense)            (None, 1)                 33        \n",
      "=================================================================\n",
      "Total params: 1,057\n",
      "Trainable params: 1,057\n",
      "Non-trainable params: 0\n",
      "_________________________________________________________________\n"
     ]
    },
    {
     "name": "stderr",
     "output_type": "stream",
     "text": [
      "\r",
      " 84%|█████████████████████████████████████████████████████████████████████████████████████████████████████████████████████████████████████████████████████████████████████████████████████████████████████████████████████▎                                        | 84/100 [36:20<07:17, 27.35s/it]"
     ]
    },
    {
     "name": "stdout",
     "output_type": "stream",
     "text": [
      "Model: \"sequential_122\"\n",
      "_________________________________________________________________\n",
      "Layer (type)                 Output Shape              Param #   \n",
      "=================================================================\n",
      "dense_244 (Dense)            (None, 32)                1024      \n",
      "_________________________________________________________________\n",
      "dense_245 (Dense)            (None, 1)                 33        \n",
      "=================================================================\n",
      "Total params: 1,057\n",
      "Trainable params: 1,057\n",
      "Non-trainable params: 0\n",
      "_________________________________________________________________\n"
     ]
    },
    {
     "name": "stderr",
     "output_type": "stream",
     "text": [
      "\r",
      " 85%|███████████████████████████████████████████████████████████████████████████████████████████████████████████████████████████████████████████████████████████████████████████████████████████████████████████████████████▉                                      | 85/100 [36:47<06:46, 27.09s/it]"
     ]
    },
    {
     "name": "stdout",
     "output_type": "stream",
     "text": [
      "Model: \"sequential_123\"\n",
      "_________________________________________________________________\n",
      "Layer (type)                 Output Shape              Param #   \n",
      "=================================================================\n",
      "dense_246 (Dense)            (None, 32)                1024      \n",
      "_________________________________________________________________\n",
      "dense_247 (Dense)            (None, 1)                 33        \n",
      "=================================================================\n",
      "Total params: 1,057\n",
      "Trainable params: 1,057\n",
      "Non-trainable params: 0\n",
      "_________________________________________________________________\n"
     ]
    },
    {
     "name": "stderr",
     "output_type": "stream",
     "text": [
      "\r",
      " 86%|██████████████████████████████████████████████████████████████████████████████████████████████████████████████████████████████████████████████████████████████████████████████████████████████████████████████████████████▍                                   | 86/100 [37:14<06:21, 27.23s/it]"
     ]
    },
    {
     "name": "stdout",
     "output_type": "stream",
     "text": [
      "Model: \"sequential_124\"\n",
      "_________________________________________________________________\n",
      "Layer (type)                 Output Shape              Param #   \n",
      "=================================================================\n",
      "dense_248 (Dense)            (None, 32)                1024      \n",
      "_________________________________________________________________\n",
      "dense_249 (Dense)            (None, 1)                 33        \n",
      "=================================================================\n",
      "Total params: 1,057\n",
      "Trainable params: 1,057\n",
      "Non-trainable params: 0\n",
      "_________________________________________________________________\n"
     ]
    },
    {
     "name": "stderr",
     "output_type": "stream",
     "text": [
      "\r",
      " 87%|████████████████████████████████████████████████████████████████████████████████████████████████████████████████████████████████████████████████████████████████████████████████████████████████████████████████████████████▉                                 | 87/100 [37:56<06:49, 31.51s/it]"
     ]
    },
    {
     "name": "stdout",
     "output_type": "stream",
     "text": [
      "Model: \"sequential_125\"\n",
      "_________________________________________________________________\n",
      "Layer (type)                 Output Shape              Param #   \n",
      "=================================================================\n",
      "dense_250 (Dense)            (None, 32)                1024      \n",
      "_________________________________________________________________\n",
      "dense_251 (Dense)            (None, 1)                 33        \n",
      "=================================================================\n",
      "Total params: 1,057\n",
      "Trainable params: 1,057\n",
      "Non-trainable params: 0\n",
      "_________________________________________________________________\n"
     ]
    },
    {
     "name": "stderr",
     "output_type": "stream",
     "text": [
      "\r",
      " 88%|███████████████████████████████████████████████████████████████████████████████████████████████████████████████████████████████████████████████████████████████████████████████████████████████████████████████████████████████▌                              | 88/100 [38:31<06:31, 32.61s/it]"
     ]
    },
    {
     "name": "stdout",
     "output_type": "stream",
     "text": [
      "Model: \"sequential_126\"\n",
      "_________________________________________________________________\n",
      "Layer (type)                 Output Shape              Param #   \n",
      "=================================================================\n",
      "dense_252 (Dense)            (None, 32)                1024      \n",
      "_________________________________________________________________\n",
      "dense_253 (Dense)            (None, 1)                 33        \n",
      "=================================================================\n",
      "Total params: 1,057\n",
      "Trainable params: 1,057\n",
      "Non-trainable params: 0\n",
      "_________________________________________________________________\n"
     ]
    },
    {
     "name": "stderr",
     "output_type": "stream",
     "text": [
      "\r",
      " 89%|██████████████████████████████████████████████████████████████████████████████████████████████████████████████████████████████████████████████████████████████████████████████████████████████████████████████████████████████████                            | 89/100 [39:00<05:48, 31.70s/it]"
     ]
    },
    {
     "name": "stdout",
     "output_type": "stream",
     "text": [
      "Model: \"sequential_127\"\n",
      "_________________________________________________________________\n",
      "Layer (type)                 Output Shape              Param #   \n",
      "=================================================================\n",
      "dense_254 (Dense)            (None, 32)                1024      \n",
      "_________________________________________________________________\n",
      "dense_255 (Dense)            (None, 1)                 33        \n",
      "=================================================================\n",
      "Total params: 1,057\n",
      "Trainable params: 1,057\n",
      "Non-trainable params: 0\n",
      "_________________________________________________________________\n"
     ]
    },
    {
     "name": "stderr",
     "output_type": "stream",
     "text": [
      "\r",
      " 90%|████████████████████████████████████████████████████████████████████████████████████████████████████████████████████████████████████████████████████████████████████████████████████████████████████████████████████████████████████▌                         | 90/100 [39:31<05:13, 31.33s/it]"
     ]
    },
    {
     "name": "stdout",
     "output_type": "stream",
     "text": [
      "Model: \"sequential_128\"\n",
      "_________________________________________________________________\n",
      "Layer (type)                 Output Shape              Param #   \n",
      "=================================================================\n",
      "dense_256 (Dense)            (None, 32)                1024      \n",
      "_________________________________________________________________\n",
      "dense_257 (Dense)            (None, 1)                 33        \n",
      "=================================================================\n",
      "Total params: 1,057\n",
      "Trainable params: 1,057\n",
      "Non-trainable params: 0\n",
      "_________________________________________________________________\n"
     ]
    },
    {
     "name": "stderr",
     "output_type": "stream",
     "text": [
      "\r",
      " 91%|███████████████████████████████████████████████████████████████████████████████████████████████████████████████████████████████████████████████████████████████████████████████████████████████████████████████████████████████████████▏                      | 91/100 [39:59<04:31, 30.21s/it]"
     ]
    },
    {
     "name": "stdout",
     "output_type": "stream",
     "text": [
      "Model: \"sequential_129\"\n",
      "_________________________________________________________________\n",
      "Layer (type)                 Output Shape              Param #   \n",
      "=================================================================\n",
      "dense_258 (Dense)            (None, 32)                1024      \n",
      "_________________________________________________________________\n",
      "dense_259 (Dense)            (None, 1)                 33        \n",
      "=================================================================\n",
      "Total params: 1,057\n",
      "Trainable params: 1,057\n",
      "Non-trainable params: 0\n",
      "_________________________________________________________________\n"
     ]
    },
    {
     "name": "stderr",
     "output_type": "stream",
     "text": [
      "\r",
      " 92%|█████████████████████████████████████████████████████████████████████████████████████████████████████████████████████████████████████████████████████████████████████████████████████████████████████████████████████████████████████████▋                    | 92/100 [40:26<03:54, 29.26s/it]"
     ]
    },
    {
     "name": "stdout",
     "output_type": "stream",
     "text": [
      "Model: \"sequential_130\"\n",
      "_________________________________________________________________\n",
      "Layer (type)                 Output Shape              Param #   \n",
      "=================================================================\n",
      "dense_260 (Dense)            (None, 32)                1024      \n",
      "_________________________________________________________________\n",
      "dense_261 (Dense)            (None, 1)                 33        \n",
      "=================================================================\n",
      "Total params: 1,057\n",
      "Trainable params: 1,057\n",
      "Non-trainable params: 0\n",
      "_________________________________________________________________\n"
     ]
    },
    {
     "name": "stderr",
     "output_type": "stream",
     "text": [
      "\r",
      " 93%|████████████████████████████████████████████████████████████████████████████████████████████████████████████████████████████████████████████████████████████████████████████████████████████████████████████████████████████████████████████▏                 | 93/100 [40:53<03:19, 28.57s/it]"
     ]
    },
    {
     "name": "stdout",
     "output_type": "stream",
     "text": [
      "Model: \"sequential_131\"\n",
      "_________________________________________________________________\n",
      "Layer (type)                 Output Shape              Param #   \n",
      "=================================================================\n",
      "dense_262 (Dense)            (None, 32)                1024      \n",
      "_________________________________________________________________\n",
      "dense_263 (Dense)            (None, 1)                 33        \n",
      "=================================================================\n",
      "Total params: 1,057\n",
      "Trainable params: 1,057\n",
      "Non-trainable params: 0\n",
      "_________________________________________________________________\n"
     ]
    },
    {
     "name": "stderr",
     "output_type": "stream",
     "text": [
      "\r",
      " 94%|██████████████████████████████████████████████████████████████████████████████████████████████████████████████████████████████████████████████████████████████████████████████████████████████████████████████████████████████████████████████▊               | 94/100 [41:21<02:50, 28.40s/it]"
     ]
    },
    {
     "name": "stdout",
     "output_type": "stream",
     "text": [
      "Model: \"sequential_132\"\n",
      "_________________________________________________________________\n",
      "Layer (type)                 Output Shape              Param #   \n",
      "=================================================================\n",
      "dense_264 (Dense)            (None, 32)                1024      \n",
      "_________________________________________________________________\n",
      "dense_265 (Dense)            (None, 1)                 33        \n",
      "=================================================================\n",
      "Total params: 1,057\n",
      "Trainable params: 1,057\n",
      "Non-trainable params: 0\n",
      "_________________________________________________________________\n"
     ]
    },
    {
     "name": "stderr",
     "output_type": "stream",
     "text": [
      "\r",
      " 95%|█████████████████████████████████████████████████████████████████████████████████████████████████████████████████████████████████████████████████████████████████████████████████████████████████████████████████████████████████████████████████▎            | 95/100 [41:47<02:19, 27.85s/it]"
     ]
    },
    {
     "name": "stdout",
     "output_type": "stream",
     "text": [
      "Model: \"sequential_133\"\n",
      "_________________________________________________________________\n",
      "Layer (type)                 Output Shape              Param #   \n",
      "=================================================================\n",
      "dense_266 (Dense)            (None, 32)                1024      \n",
      "_________________________________________________________________\n",
      "dense_267 (Dense)            (None, 1)                 33        \n",
      "=================================================================\n",
      "Total params: 1,057\n",
      "Trainable params: 1,057\n",
      "Non-trainable params: 0\n",
      "_________________________________________________________________\n"
     ]
    },
    {
     "name": "stderr",
     "output_type": "stream",
     "text": [
      "\r",
      " 96%|███████████████████████████████████████████████████████████████████████████████████████████████████████████████████████████████████████████████████████████████████████████████████████████████████████████████████████████████████████████████████▊          | 96/100 [42:15<01:51, 27.90s/it]"
     ]
    },
    {
     "name": "stdout",
     "output_type": "stream",
     "text": [
      "Model: \"sequential_134\"\n",
      "_________________________________________________________________\n",
      "Layer (type)                 Output Shape              Param #   \n",
      "=================================================================\n",
      "dense_268 (Dense)            (None, 32)                1024      \n",
      "_________________________________________________________________\n",
      "dense_269 (Dense)            (None, 1)                 33        \n",
      "=================================================================\n",
      "Total params: 1,057\n",
      "Trainable params: 1,057\n",
      "Non-trainable params: 0\n",
      "_________________________________________________________________\n"
     ]
    },
    {
     "name": "stderr",
     "output_type": "stream",
     "text": [
      "\r",
      " 97%|██████████████████████████████████████████████████████████████████████████████████████████████████████████████████████████████████████████████████████████████████████████████████████████████████████████████████████████████████████████████████████▍       | 97/100 [42:45<01:25, 28.61s/it]"
     ]
    },
    {
     "name": "stdout",
     "output_type": "stream",
     "text": [
      "Model: \"sequential_135\"\n",
      "_________________________________________________________________\n",
      "Layer (type)                 Output Shape              Param #   \n",
      "=================================================================\n",
      "dense_270 (Dense)            (None, 32)                1024      \n",
      "_________________________________________________________________\n",
      "dense_271 (Dense)            (None, 1)                 33        \n",
      "=================================================================\n",
      "Total params: 1,057\n",
      "Trainable params: 1,057\n",
      "Non-trainable params: 0\n",
      "_________________________________________________________________\n"
     ]
    },
    {
     "name": "stderr",
     "output_type": "stream",
     "text": [
      "\r",
      " 98%|████████████████████████████████████████████████████████████████████████████████████████████████████████████████████████████████████████████████████████████████████████████████████████████████████████████████████████████████████████████████████████▉     | 98/100 [43:14<00:57, 28.68s/it]"
     ]
    },
    {
     "name": "stdout",
     "output_type": "stream",
     "text": [
      "Model: \"sequential_136\"\n",
      "_________________________________________________________________\n",
      "Layer (type)                 Output Shape              Param #   \n",
      "=================================================================\n",
      "dense_272 (Dense)            (None, 32)                1024      \n",
      "_________________________________________________________________\n",
      "dense_273 (Dense)            (None, 1)                 33        \n",
      "=================================================================\n",
      "Total params: 1,057\n",
      "Trainable params: 1,057\n",
      "Non-trainable params: 0\n",
      "_________________________________________________________________\n"
     ]
    },
    {
     "name": "stderr",
     "output_type": "stream",
     "text": [
      "\r",
      " 99%|███████████████████████████████████████████████████████████████████████████████████████████████████████████████████████████████████████████████████████████████████████████████████████████████████████████████████████████████████████████████████████████▍  | 99/100 [43:39<00:27, 27.50s/it]"
     ]
    },
    {
     "name": "stdout",
     "output_type": "stream",
     "text": [
      "Model: \"sequential_137\"\n",
      "_________________________________________________________________\n",
      "Layer (type)                 Output Shape              Param #   \n",
      "=================================================================\n",
      "dense_274 (Dense)            (None, 32)                1024      \n",
      "_________________________________________________________________\n",
      "dense_275 (Dense)            (None, 1)                 33        \n",
      "=================================================================\n",
      "Total params: 1,057\n",
      "Trainable params: 1,057\n",
      "Non-trainable params: 0\n",
      "_________________________________________________________________\n"
     ]
    },
    {
     "name": "stderr",
     "output_type": "stream",
     "text": [
      "100%|█████████████████████████████████████████████████████████████████████████████████████████████████████████████████████████████████████████████████████████████████████████████████████████████████████████████████████████████████████████████████████████████| 100/100 [44:03<00:00, 26.44s/it]\n"
     ]
    }
   ],
   "source": [
    "import tqdm\n",
    "\n",
    "precision_scores = []\n",
    "recall_scores = []\n",
    "\n",
    "for i in tqdm.tqdm(range(100)): \n",
    "    model = feed_forward(x_train, y_train, width = 32)\n",
    "    model.model.fit(x_train, y_train, epochs = 100, verbose = 0)\n",
    "    yhat = model.predict(x_test) \n",
    "    precision_scores.append(precision(y_test, yhat))\n",
    "    recall_scores.append(recall(y_test, yhat))\n",
    "    \n"
   ]
  },
  {
   "cell_type": "code",
   "execution_count": 16,
   "id": "supreme-factory",
   "metadata": {},
   "outputs": [
    {
     "data": {
      "image/png": "[encoded data removed]",
      "text/plain": [
       "<Figure size 1080x720 with 1 Axes>"
      ]
     },
     "metadata": {},
     "output_type": "display_data"
    }
   ],
   "source": [
    "\n",
    "\n",
    "plt.hist(precision_scores)\n",
    "plt.hist(recall_scores)\n",
    "plt.title(\"Precision and Recall Stability after 100 Epochs\")\n",
    "plt.xlabel(\"Value\")\n",
    "plt.ylabel(\"Frequency\")\n",
    "plt.legend(['Precision', 'Recall'])\n",
    "plt.savefig(\"StableNetwork.png\")"
   ]
  },
  {
   "cell_type": "code",
   "execution_count": 20,
   "id": "professional-graduate",
   "metadata": {},
   "outputs": [
    {
     "name": "stdout",
     "output_type": "stream",
     "text": [
      "Epoch 1/100\n",
      "625/625 [==============================] - 0s 558us/step - loss: 0.2367\n",
      "Epoch 2/100\n",
      "625/625 [==============================] - 0s 575us/step - loss: 0.2392\n",
      "Epoch 3/100\n",
      "625/625 [==============================] - 0s 586us/step - loss: 0.2392\n",
      "Epoch 4/100\n",
      "625/625 [==============================] - 0s 618us/step - loss: 0.2393\n",
      "Epoch 5/100\n",
      "625/625 [==============================] - 0s 538us/step - loss: 0.2369\n",
      "Epoch 6/100\n",
      "625/625 [==============================] - 0s 593us/step - loss: 0.2391\n",
      "Epoch 7/100\n",
      "625/625 [==============================] - 0s 563us/step - loss: 0.2356\n",
      "Epoch 8/100\n",
      "625/625 [==============================] - 0s 586us/step - loss: 0.2370\n",
      "Epoch 9/100\n",
      "625/625 [==============================] - 0s 586us/step - loss: 0.2342\n",
      "Epoch 10/100\n",
      "625/625 [==============================] - 0s 532us/step - loss: 0.2395\n",
      "Epoch 11/100\n",
      "625/625 [==============================] - 0s 581us/step - loss: 0.2385\n",
      "Epoch 12/100\n",
      "625/625 [==============================] - 0s 556us/step - loss: 0.2415\n",
      "Epoch 13/100\n",
      "625/625 [==============================] - 0s 547us/step - loss: 0.2369 0s - loss: \n",
      "Epoch 14/100\n",
      "625/625 [==============================] - 0s 581us/step - loss: 0.2399\n",
      "Epoch 15/100\n",
      "625/625 [==============================] - 0s 570us/step - loss: 0.2412\n",
      "Epoch 16/100\n",
      "625/625 [==============================] - 0s 549us/step - loss: 0.2361 0s - loss: 0.2\n",
      "Epoch 17/100\n",
      "625/625 [==============================] - 0s 573us/step - loss: 0.2378\n",
      "Epoch 18/100\n",
      "625/625 [==============================] - 0s 624us/step - loss: 0.2378\n",
      "Epoch 19/100\n",
      "625/625 [==============================] - 0s 562us/step - loss: 0.2427\n",
      "Epoch 20/100\n",
      "625/625 [==============================] - 0s 559us/step - loss: 0.2385\n",
      "Epoch 21/100\n",
      "625/625 [==============================] - 0s 580us/step - loss: 0.2380\n",
      "Epoch 22/100\n",
      "625/625 [==============================] - 0s 595us/step - loss: 0.2362\n",
      "Epoch 23/100\n",
      "625/625 [==============================] - 0s 586us/step - loss: 0.2387\n",
      "Epoch 24/100\n",
      "625/625 [==============================] - 0s 570us/step - loss: 0.2336\n",
      "Epoch 25/100\n",
      "625/625 [==============================] - 0s 621us/step - loss: 0.2391\n",
      "Epoch 26/100\n",
      "625/625 [==============================] - 0s 559us/step - loss: 0.2410\n",
      "Epoch 27/100\n",
      "625/625 [==============================] - 0s 575us/step - loss: 0.2344\n",
      "Epoch 28/100\n",
      "625/625 [==============================] - 0s 583us/step - loss: 0.2364\n",
      "Epoch 29/100\n",
      "625/625 [==============================] - 0s 584us/step - loss: 0.2395\n",
      "Epoch 30/100\n",
      "625/625 [==============================] - 0s 581us/step - loss: 0.2397\n",
      "Epoch 31/100\n",
      "625/625 [==============================] - 0s 599us/step - loss: 0.2354\n",
      "Epoch 32/100\n",
      "625/625 [==============================] - 0s 581us/step - loss: 0.2362\n",
      "Epoch 33/100\n",
      "625/625 [==============================] - 0s 555us/step - loss: 0.2376\n",
      "Epoch 34/100\n",
      "625/625 [==============================] - 0s 576us/step - loss: 0.2414\n",
      "Epoch 35/100\n",
      "625/625 [==============================] - 0s 543us/step - loss: 0.2366\n",
      "Epoch 36/100\n",
      "625/625 [==============================] - 0s 579us/step - loss: 0.2334\n",
      "Epoch 37/100\n",
      "625/625 [==============================] - 0s 582us/step - loss: 0.2355\n",
      "Epoch 38/100\n",
      "625/625 [==============================] - 0s 571us/step - loss: 0.2356\n",
      "Epoch 39/100\n",
      "625/625 [==============================] - 0s 578us/step - loss: 0.2363\n",
      "Epoch 40/100\n",
      "625/625 [==============================] - 0s 575us/step - loss: 0.2363\n",
      "Epoch 41/100\n",
      "625/625 [==============================] - 0s 606us/step - loss: 0.2339\n",
      "Epoch 42/100\n",
      "625/625 [==============================] - 0s 649us/step - loss: 0.2367\n",
      "Epoch 43/100\n",
      "625/625 [==============================] - 0s 581us/step - loss: 0.2375\n",
      "Epoch 44/100\n",
      "625/625 [==============================] - 0s 591us/step - loss: 0.2361\n",
      "Epoch 45/100\n",
      "625/625 [==============================] - 0s 633us/step - loss: 0.2382\n",
      "Epoch 46/100\n",
      "625/625 [==============================] - 0s 592us/step - loss: 0.2354\n",
      "Epoch 47/100\n",
      "625/625 [==============================] - 0s 596us/step - loss: 0.2376\n",
      "Epoch 48/100\n",
      "625/625 [==============================] - 0s 596us/step - loss: 0.2345\n",
      "Epoch 49/100\n",
      "625/625 [==============================] - 0s 564us/step - loss: 0.2348\n",
      "Epoch 50/100\n",
      "625/625 [==============================] - 0s 590us/step - loss: 0.2347\n",
      "Epoch 51/100\n",
      "625/625 [==============================] - 0s 581us/step - loss: 0.2369\n",
      "Epoch 52/100\n",
      "625/625 [==============================] - 0s 592us/step - loss: 0.2351\n",
      "Epoch 53/100\n",
      "625/625 [==============================] - 0s 587us/step - loss: 0.2387\n",
      "Epoch 54/100\n",
      "625/625 [==============================] - 0s 575us/step - loss: 0.2357\n",
      "Epoch 55/100\n",
      "625/625 [==============================] - 0s 668us/step - loss: 0.2333\n",
      "Epoch 56/100\n",
      "625/625 [==============================] - 0s 620us/step - loss: 0.2352 0s - loss: 0.2\n",
      "Epoch 57/100\n",
      "625/625 [==============================] - 0s 637us/step - loss: 0.2344\n",
      "Epoch 58/100\n",
      "625/625 [==============================] - 0s 661us/step - loss: 0.2367\n",
      "Epoch 59/100\n",
      "625/625 [==============================] - 0s 583us/step - loss: 0.2367\n",
      "Epoch 60/100\n",
      "625/625 [==============================] - 0s 557us/step - loss: 0.2395\n",
      "Epoch 61/100\n",
      "625/625 [==============================] - 0s 565us/step - loss: 0.2373\n",
      "Epoch 62/100\n",
      "625/625 [==============================] - 0s 606us/step - loss: 0.2366\n",
      "Epoch 63/100\n",
      "625/625 [==============================] - 0s 627us/step - loss: 0.2359\n",
      "Epoch 64/100\n",
      "625/625 [==============================] - 0s 556us/step - loss: 0.2356\n",
      "Epoch 65/100\n",
      "625/625 [==============================] - 0s 572us/step - loss: 0.2376\n",
      "Epoch 66/100\n",
      "625/625 [==============================] - 0s 611us/step - loss: 0.2392\n",
      "Epoch 67/100\n",
      "625/625 [==============================] - 0s 608us/step - loss: 0.2382\n",
      "Epoch 68/100\n",
      "625/625 [==============================] - 0s 629us/step - loss: 0.2335\n",
      "Epoch 69/100\n",
      "625/625 [==============================] - 0s 629us/step - loss: 0.2364\n",
      "Epoch 70/100\n",
      "625/625 [==============================] - 0s 571us/step - loss: 0.2340\n",
      "Epoch 71/100\n",
      "625/625 [==============================] - 0s 588us/step - loss: 0.2358\n",
      "Epoch 72/100\n",
      "625/625 [==============================] - 0s 644us/step - loss: 0.2379\n",
      "Epoch 73/100\n",
      "625/625 [==============================] - 0s 561us/step - loss: 0.2356\n",
      "Epoch 74/100\n",
      "625/625 [==============================] - 0s 548us/step - loss: 0.2348\n",
      "Epoch 75/100\n",
      "625/625 [==============================] - 0s 575us/step - loss: 0.2352\n",
      "Epoch 76/100\n",
      "625/625 [==============================] - 0s 552us/step - loss: 0.2367\n",
      "Epoch 77/100\n",
      "625/625 [==============================] - 0s 577us/step - loss: 0.2380\n",
      "Epoch 78/100\n",
      "625/625 [==============================] - 0s 594us/step - loss: 0.2398\n",
      "Epoch 79/100\n",
      "625/625 [==============================] - 0s 600us/step - loss: 0.2395\n",
      "Epoch 80/100\n",
      "625/625 [==============================] - 0s 598us/step - loss: 0.2359\n",
      "Epoch 81/100\n",
      "625/625 [==============================] - 0s 594us/step - loss: 0.2424\n",
      "Epoch 82/100\n",
      "625/625 [==============================] - 0s 595us/step - loss: 0.2379\n",
      "Epoch 83/100\n",
      "625/625 [==============================] - 0s 590us/step - loss: 0.2351\n",
      "Epoch 84/100\n",
      "625/625 [==============================] - 0s 629us/step - loss: 0.2347\n",
      "Epoch 85/100\n",
      "625/625 [==============================] - 0s 676us/step - loss: 0.2337\n",
      "Epoch 86/100\n",
      "625/625 [==============================] - 0s 568us/step - loss: 0.2359\n",
      "Epoch 87/100\n",
      "625/625 [==============================] - 0s 536us/step - loss: 0.2397\n",
      "Epoch 88/100\n",
      "625/625 [==============================] - 0s 556us/step - loss: 0.2387\n",
      "Epoch 89/100\n",
      "625/625 [==============================] - 0s 588us/step - loss: 0.2378\n",
      "Epoch 90/100\n",
      "625/625 [==============================] - 0s 589us/step - loss: 0.2360\n",
      "Epoch 91/100\n",
      "625/625 [==============================] - 0s 630us/step - loss: 0.2403\n",
      "Epoch 92/100\n",
      "625/625 [==============================] - 0s 594us/step - loss: 0.2396\n",
      "Epoch 93/100\n",
      "625/625 [==============================] - 0s 596us/step - loss: 0.2374\n",
      "Epoch 94/100\n",
      "625/625 [==============================] - 0s 600us/step - loss: 0.2373\n",
      "Epoch 95/100\n",
      "625/625 [==============================] - 0s 615us/step - loss: 0.2333\n",
      "Epoch 96/100\n",
      "625/625 [==============================] - 0s 613us/step - loss: 0.2360\n"
     ]
    },
    {
     "name": "stdout",
     "output_type": "stream",
     "text": [
      "Epoch 97/100\n",
      "625/625 [==============================] - 0s 591us/step - loss: 0.2347\n",
      "Epoch 98/100\n",
      "625/625 [==============================] - 0s 609us/step - loss: 0.2357\n",
      "Epoch 99/100\n",
      "625/625 [==============================] - 0s 635us/step - loss: 0.2353\n",
      "Epoch 100/100\n",
      "625/625 [==============================] - 0s 543us/step - loss: 0.2368\n"
     ]
    }
   ],
   "source": [
    "nn.train(100)"
   ]
  },
  {
   "cell_type": "code",
   "execution_count": 21,
   "id": "raised-houston",
   "metadata": {},
   "outputs": [
    {
     "name": "stdout",
     "output_type": "stream",
     "text": [
      "              precision    recall  f1-score   support\n",
      "\n",
      "         0.0       0.95      0.99      0.97      4599\n",
      "         1.0       0.69      0.34      0.46       401\n",
      "\n",
      "    accuracy                           0.93      5000\n",
      "   macro avg       0.82      0.67      0.71      5000\n",
      "weighted avg       0.92      0.93      0.92      5000\n",
      "\n"
     ]
    }
   ],
   "source": [
    "print(report(y_test, nn.predict(x_test)))"
   ]
  },
  {
   "cell_type": "code",
   "execution_count": 35,
   "id": "sixth-forestry",
   "metadata": {},
   "outputs": [
    {
     "data": {
      "image/png": "[encoded data removed]",
      "text/plain": [
       "<Figure size 720x540 with 1 Axes>"
      ]
     },
     "metadata": {},
     "output_type": "display_data"
    }
   ],
   "source": [
    "from sklearn.metrics import precision_recall_curve\n",
    "\n",
    "plt.style.use(\"fivethirtyeight\")\n",
    "plt.rcParams[\"figure.figsize\"] = [10,7.5]\n",
    "\n",
    "precision_nn, recall_nn, _ = precision_recall_curve(y_val ,nn.predict_proba(x_val))\n",
    "\n",
    "plt.title(\"Precision Recall Curve\")\n",
    "plt.plot(precision_nn, recall_nn)\n",
    "plt.xlabel(\"Precision\")\n",
    "plt.ylabel(\"Recall\")\n",
    "plt.savefig(\"pr_curve_nn.png\")"
   ]
  },
  {
   "cell_type": "code",
   "execution_count": 25,
   "id": "serial-cache",
   "metadata": {
    "scrolled": true
   },
   "outputs": [
    {
     "data": {
      "image/png": "[encoded data removed]",
      "text/plain": [
       "<Figure size 720x540 with 1 Axes>"
      ]
     },
     "metadata": {},
     "output_type": "display_data"
    }
   ],
   "source": [
    "def tune_threshold(y, y_prob, eta = 0.1, plev = 0.5, max_iter = 100, output = True):\n",
    "    \"\"\"\n",
    "    Tunes the threshold of the decision rule to improve accuracy.\n",
    "    \n",
    "    Keyword Arguments: \n",
    "    y - theground truth\n",
    "    y_prob - the model predictions\n",
    "    eta - learning rate \n",
    "    plev - the level of precision we are trying to maintain\n",
    "    \"\"\"\n",
    "    threshold = 0.5\n",
    "    yhat = decide(y_prob, threshold)\n",
    "    p = precision(y, yhat)\n",
    "    r = recall(y, yhat)\n",
    "    initial_loss = directional_loss(y, yhat)\n",
    "    if output: \n",
    "        print(f\"Precision = {p}, Recall = {r}, Threshold = {threshold}\")\n",
    "    \n",
    "    for i in range(1, max_iter): \n",
    "        threshold -= eta/i*threshold\n",
    "        yhat = decide(y_prob, threshold)\n",
    "        \n",
    "        \n",
    "        p = precision(y, yhat)\n",
    "        r = recall(y, yhat)\n",
    "        \n",
    "        if output: \n",
    "            print(f\"Precision = {p}, Recall = {r}, Threshold = {threshold}\")\n",
    "        \n",
    "        if (p <= plev): \n",
    "            return threshold\n",
    "            \n",
    "    return threshold\n",
    "\n",
    "y_prob = nn.predict_proba(x_val)\n",
    "\n",
    "plevels = [_ for _ in np.arange(0, 1, 0.01)]\n",
    "thresholds = []\n",
    "\n",
    "for p in plevels: \n",
    "    thresholds.append(tune_threshold(y_val, y_prob, plev = p, output = False))\n",
    "    \n",
    "plt.style.use(\"fivethirtyeight\")\n",
    "plt.rcParams[\"figure.figsize\"] = [10, 7.5]\n",
    "\n",
    "plt.plot(plevels, thresholds)\n",
    "plt.xlabel(\"Precision\")\n",
    "plt.ylabel(\"Decision Threshold\")\n",
    "plt.title(\"Precision vs. Decision Threshold\")\n",
    "plt.savefig(\"precisionvsthreshold_nn.png\")"
   ]
  },
  {
   "cell_type": "code",
   "execution_count": 34,
   "id": "collectible-merchandise",
   "metadata": {
    "scrolled": true
   },
   "outputs": [
    {
     "name": "stdout",
     "output_type": "stream",
     "text": [
      "0.26020183606304553\n",
      "              precision    recall  f1-score   support\n",
      "\n",
      "         0.0       0.95      0.98      0.96      4599\n",
      "         1.0       0.62      0.38      0.47       401\n",
      "\n",
      "    accuracy                           0.93      5000\n",
      "   macro avg       0.78      0.68      0.72      5000\n",
      "weighted avg       0.92      0.93      0.92      5000\n",
      "\n"
     ]
    }
   ],
   "source": [
    "threshold = tune_threshold(y_val, y_prob, plev=0.55, max_iter = 1000, output = False)\n",
    "print(threshold)\n",
    "print(report(y_test, decide(nn.predict_proba(x_test), threshold)))"
   ]
  },
  {
   "cell_type": "code",
   "execution_count": 103,
   "id": "handled-craps",
   "metadata": {},
   "outputs": [
    {
     "name": "stdout",
     "output_type": "stream",
     "text": [
      "[0.21395627]\n"
     ]
    }
   ],
   "source": [
    "def explain(x_mean, x_obs,  model): \n",
    "    \"\"\"\n",
    "    Generates a list of numbers coresonding to how strong its influence is on\n",
    "    the outcome of the model. Works with comparing probabilities \n",
    "    \"\"\"\n",
    "    \n",
    "    mean_prob = model.predict_proba(np.array([x_mean,])) \n",
    "    predictive_strength = []\n",
    "    \n",
    "    for i in range(len(x_obs)): \n",
    "        x_mean_copy = x_mean.copy()\n",
    "        x_mean_copy[i] = x_obs[i] - x_mean[i]\n",
    "        \n",
    "        changed_prob = model.predict_proba(np.array([x_mean_copy,]))\n",
    "        predictive_strength.append((changed_prob)[0])\n",
    "        \n",
    "    return predictive_strength\n",
    "\n",
    "x_mean = x_test.mean(axis = 0)\n",
    "x_obs45 = x_test[:][45]\n",
    "\n",
    "print(nn.predict_proba(np.array([x_mean,])))\n",
    "\n",
    "explain(x_mean, x_obs45, nn)\n",
    "credit_data = load_data(\"../data/Simulated_Data_Train.csv\", as_df = True)\n",
    "\n",
    "\n",
    "explain_df = pd.DataFrame.from_dict({col: val for col, val in zip(credit_data.columns, explain(x_mean, x_obs, nn))}, \n",
    "                                      \"index\", columns = [\"Person45\"])\n",
    "\n",
    "x_obs1 = x_test[:][1]\n",
    "explain_df[\"Person1\"] = explain(x_mean, x_obs1, nn)\n",
    "explain_df.to_latex(\"../report/explain.tex\")"
   ]
  },
  {
   "cell_type": "code",
   "execution_count": 112,
   "id": "religious-treatment",
   "metadata": {},
   "outputs": [
    {
     "name": "stdout",
     "output_type": "stream",
     "text": [
      "[9.45983352e+04 1.42712072e+04 2.97455400e+02 1.50363200e+02\n",
      " 2.68507200e+02 2.96000000e-02 3.09524886e+02 1.75280000e+00\n",
      " 3.38560000e+00 5.03483253e-01 5.14553221e-01 5.09252400e-01\n",
      " 4.88634565e-01 0.00000000e+00 7.54611219e+04 1.47600000e-01\n",
      " 1.51600000e-01 1.48200000e-01 1.36600000e-01 1.45600000e-01\n",
      " 1.32800000e-01 4.98000000e-02 2.22000000e-02 5.40000000e-03\n",
      " 4.00000000e-04 2.40000000e-02 2.20000000e-03 1.45000000e-01\n",
      " 6.20000000e-03 8.52600000e-01 4.00000000e-04]\n",
      "[9.45983352e+04 1.42712072e+04 2.97455400e+02 1.50363200e+02\n",
      " 2.68507200e+02 2.96000000e-02 3.09524886e+02 1.75280000e+00\n",
      " 3.38560000e+00 5.03483253e-01 5.14553221e-01 5.09252400e-01\n",
      " 4.88634565e-01 1.00000000e+00 7.54611219e+04 1.47600000e-01\n",
      " 1.51600000e-01 1.48200000e-01 1.36600000e-01 1.45600000e-01\n",
      " 1.32800000e-01 4.98000000e-02 2.22000000e-02 5.40000000e-03\n",
      " 4.00000000e-04 2.40000000e-02 2.20000000e-03 1.45000000e-01\n",
      " 6.20000000e-03 8.52600000e-01 4.00000000e-04]\n",
      "[0.21641025]\n",
      "[0.20692515]\n"
     ]
    }
   ],
   "source": [
    "average_customer = x_mean.copy()\n",
    "bank_customer = x_mean.copy()\n",
    "\n",
    "average_customer[13] = 0\n",
    "bank_customer[13] = 1\n",
    "\n",
    "print(average_customer)\n",
    "print(bank_customer)\n",
    "\n",
    "\n",
    "print(nn.predict_proba(np.array([average_customer, ])))\n",
    "print(nn.predict_proba(np.array([bank_customer, ])))"
   ]
  }
 ],
 "metadata": {
  "kernelspec": {
   "display_name": "Python 3",
   "language": "python",
   "name": "python3"
  },
  "language_info": {
   "codemirror_mode": {
    "name": "ipython",
    "version": 3
   },
   "file_extension": ".py",
   "mimetype": "text/x-python",
   "name": "python",
   "nbconvert_exporter": "python",
   "pygments_lexer": "ipython3",
   "version": "3.7.10"
  }
 },
 "nbformat": 4,
 "nbformat_minor": 5
}
